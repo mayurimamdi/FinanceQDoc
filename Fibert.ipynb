{
  "nbformat": 4,
  "nbformat_minor": 0,
  "metadata": {
    "colab": {
      "provenance": [],
      "machine_shape": "hm",
      "gpuType": "T4"
    },
    "kernelspec": {
      "name": "python3",
      "display_name": "Python 3"
    },
    "language_info": {
      "name": "python"
    },
    "accelerator": "GPU",
    "widgets": {
      "application/vnd.jupyter.widget-state+json": {
        "eca52354993b4857b7368841d8d802cc": {
          "model_module": "@jupyter-widgets/controls",
          "model_name": "HBoxModel",
          "model_module_version": "1.5.0",
          "state": {
            "_dom_classes": [],
            "_model_module": "@jupyter-widgets/controls",
            "_model_module_version": "1.5.0",
            "_model_name": "HBoxModel",
            "_view_count": null,
            "_view_module": "@jupyter-widgets/controls",
            "_view_module_version": "1.5.0",
            "_view_name": "HBoxView",
            "box_style": "",
            "children": [
              "IPY_MODEL_c6352b7f77d54f098f19d45e3957c671",
              "IPY_MODEL_05c125dbf29c4dde993bfccc352f8d0e",
              "IPY_MODEL_0bd5ce8d838e4007aba9caa00a96a1e7"
            ],
            "layout": "IPY_MODEL_62fb89b5f29d49dea01b74edb4d1afd1"
          }
        },
        "c6352b7f77d54f098f19d45e3957c671": {
          "model_module": "@jupyter-widgets/controls",
          "model_name": "HTMLModel",
          "model_module_version": "1.5.0",
          "state": {
            "_dom_classes": [],
            "_model_module": "@jupyter-widgets/controls",
            "_model_module_version": "1.5.0",
            "_model_name": "HTMLModel",
            "_view_count": null,
            "_view_module": "@jupyter-widgets/controls",
            "_view_module_version": "1.5.0",
            "_view_name": "HTMLView",
            "description": "",
            "description_tooltip": null,
            "layout": "IPY_MODEL_cdace3a76a50457280182acbde7554c6",
            "placeholder": "​",
            "style": "IPY_MODEL_b636b1de31f04aa4898f5e906cd9d7c8",
            "value": "tokenizer_config.json: 100%"
          }
        },
        "05c125dbf29c4dde993bfccc352f8d0e": {
          "model_module": "@jupyter-widgets/controls",
          "model_name": "FloatProgressModel",
          "model_module_version": "1.5.0",
          "state": {
            "_dom_classes": [],
            "_model_module": "@jupyter-widgets/controls",
            "_model_module_version": "1.5.0",
            "_model_name": "FloatProgressModel",
            "_view_count": null,
            "_view_module": "@jupyter-widgets/controls",
            "_view_module_version": "1.5.0",
            "_view_name": "ProgressView",
            "bar_style": "success",
            "description": "",
            "description_tooltip": null,
            "layout": "IPY_MODEL_5019978bb4ac41a890d44f5e791a790c",
            "max": 48,
            "min": 0,
            "orientation": "horizontal",
            "style": "IPY_MODEL_c2bd1e38b9f541a5afbf02589624a5d8",
            "value": 48
          }
        },
        "0bd5ce8d838e4007aba9caa00a96a1e7": {
          "model_module": "@jupyter-widgets/controls",
          "model_name": "HTMLModel",
          "model_module_version": "1.5.0",
          "state": {
            "_dom_classes": [],
            "_model_module": "@jupyter-widgets/controls",
            "_model_module_version": "1.5.0",
            "_model_name": "HTMLModel",
            "_view_count": null,
            "_view_module": "@jupyter-widgets/controls",
            "_view_module_version": "1.5.0",
            "_view_name": "HTMLView",
            "description": "",
            "description_tooltip": null,
            "layout": "IPY_MODEL_630b29eb38ee4b5bace082f1a239d3fe",
            "placeholder": "​",
            "style": "IPY_MODEL_2409d37cdf3b47be9caffd7ffae1a259",
            "value": " 48.0/48.0 [00:00&lt;00:00, 5.53kB/s]"
          }
        },
        "62fb89b5f29d49dea01b74edb4d1afd1": {
          "model_module": "@jupyter-widgets/base",
          "model_name": "LayoutModel",
          "model_module_version": "1.2.0",
          "state": {
            "_model_module": "@jupyter-widgets/base",
            "_model_module_version": "1.2.0",
            "_model_name": "LayoutModel",
            "_view_count": null,
            "_view_module": "@jupyter-widgets/base",
            "_view_module_version": "1.2.0",
            "_view_name": "LayoutView",
            "align_content": null,
            "align_items": null,
            "align_self": null,
            "border": null,
            "bottom": null,
            "display": null,
            "flex": null,
            "flex_flow": null,
            "grid_area": null,
            "grid_auto_columns": null,
            "grid_auto_flow": null,
            "grid_auto_rows": null,
            "grid_column": null,
            "grid_gap": null,
            "grid_row": null,
            "grid_template_areas": null,
            "grid_template_columns": null,
            "grid_template_rows": null,
            "height": null,
            "justify_content": null,
            "justify_items": null,
            "left": null,
            "margin": null,
            "max_height": null,
            "max_width": null,
            "min_height": null,
            "min_width": null,
            "object_fit": null,
            "object_position": null,
            "order": null,
            "overflow": null,
            "overflow_x": null,
            "overflow_y": null,
            "padding": null,
            "right": null,
            "top": null,
            "visibility": null,
            "width": null
          }
        },
        "cdace3a76a50457280182acbde7554c6": {
          "model_module": "@jupyter-widgets/base",
          "model_name": "LayoutModel",
          "model_module_version": "1.2.0",
          "state": {
            "_model_module": "@jupyter-widgets/base",
            "_model_module_version": "1.2.0",
            "_model_name": "LayoutModel",
            "_view_count": null,
            "_view_module": "@jupyter-widgets/base",
            "_view_module_version": "1.2.0",
            "_view_name": "LayoutView",
            "align_content": null,
            "align_items": null,
            "align_self": null,
            "border": null,
            "bottom": null,
            "display": null,
            "flex": null,
            "flex_flow": null,
            "grid_area": null,
            "grid_auto_columns": null,
            "grid_auto_flow": null,
            "grid_auto_rows": null,
            "grid_column": null,
            "grid_gap": null,
            "grid_row": null,
            "grid_template_areas": null,
            "grid_template_columns": null,
            "grid_template_rows": null,
            "height": null,
            "justify_content": null,
            "justify_items": null,
            "left": null,
            "margin": null,
            "max_height": null,
            "max_width": null,
            "min_height": null,
            "min_width": null,
            "object_fit": null,
            "object_position": null,
            "order": null,
            "overflow": null,
            "overflow_x": null,
            "overflow_y": null,
            "padding": null,
            "right": null,
            "top": null,
            "visibility": null,
            "width": null
          }
        },
        "b636b1de31f04aa4898f5e906cd9d7c8": {
          "model_module": "@jupyter-widgets/controls",
          "model_name": "DescriptionStyleModel",
          "model_module_version": "1.5.0",
          "state": {
            "_model_module": "@jupyter-widgets/controls",
            "_model_module_version": "1.5.0",
            "_model_name": "DescriptionStyleModel",
            "_view_count": null,
            "_view_module": "@jupyter-widgets/base",
            "_view_module_version": "1.2.0",
            "_view_name": "StyleView",
            "description_width": ""
          }
        },
        "5019978bb4ac41a890d44f5e791a790c": {
          "model_module": "@jupyter-widgets/base",
          "model_name": "LayoutModel",
          "model_module_version": "1.2.0",
          "state": {
            "_model_module": "@jupyter-widgets/base",
            "_model_module_version": "1.2.0",
            "_model_name": "LayoutModel",
            "_view_count": null,
            "_view_module": "@jupyter-widgets/base",
            "_view_module_version": "1.2.0",
            "_view_name": "LayoutView",
            "align_content": null,
            "align_items": null,
            "align_self": null,
            "border": null,
            "bottom": null,
            "display": null,
            "flex": null,
            "flex_flow": null,
            "grid_area": null,
            "grid_auto_columns": null,
            "grid_auto_flow": null,
            "grid_auto_rows": null,
            "grid_column": null,
            "grid_gap": null,
            "grid_row": null,
            "grid_template_areas": null,
            "grid_template_columns": null,
            "grid_template_rows": null,
            "height": null,
            "justify_content": null,
            "justify_items": null,
            "left": null,
            "margin": null,
            "max_height": null,
            "max_width": null,
            "min_height": null,
            "min_width": null,
            "object_fit": null,
            "object_position": null,
            "order": null,
            "overflow": null,
            "overflow_x": null,
            "overflow_y": null,
            "padding": null,
            "right": null,
            "top": null,
            "visibility": null,
            "width": null
          }
        },
        "c2bd1e38b9f541a5afbf02589624a5d8": {
          "model_module": "@jupyter-widgets/controls",
          "model_name": "ProgressStyleModel",
          "model_module_version": "1.5.0",
          "state": {
            "_model_module": "@jupyter-widgets/controls",
            "_model_module_version": "1.5.0",
            "_model_name": "ProgressStyleModel",
            "_view_count": null,
            "_view_module": "@jupyter-widgets/base",
            "_view_module_version": "1.2.0",
            "_view_name": "StyleView",
            "bar_color": null,
            "description_width": ""
          }
        },
        "630b29eb38ee4b5bace082f1a239d3fe": {
          "model_module": "@jupyter-widgets/base",
          "model_name": "LayoutModel",
          "model_module_version": "1.2.0",
          "state": {
            "_model_module": "@jupyter-widgets/base",
            "_model_module_version": "1.2.0",
            "_model_name": "LayoutModel",
            "_view_count": null,
            "_view_module": "@jupyter-widgets/base",
            "_view_module_version": "1.2.0",
            "_view_name": "LayoutView",
            "align_content": null,
            "align_items": null,
            "align_self": null,
            "border": null,
            "bottom": null,
            "display": null,
            "flex": null,
            "flex_flow": null,
            "grid_area": null,
            "grid_auto_columns": null,
            "grid_auto_flow": null,
            "grid_auto_rows": null,
            "grid_column": null,
            "grid_gap": null,
            "grid_row": null,
            "grid_template_areas": null,
            "grid_template_columns": null,
            "grid_template_rows": null,
            "height": null,
            "justify_content": null,
            "justify_items": null,
            "left": null,
            "margin": null,
            "max_height": null,
            "max_width": null,
            "min_height": null,
            "min_width": null,
            "object_fit": null,
            "object_position": null,
            "order": null,
            "overflow": null,
            "overflow_x": null,
            "overflow_y": null,
            "padding": null,
            "right": null,
            "top": null,
            "visibility": null,
            "width": null
          }
        },
        "2409d37cdf3b47be9caffd7ffae1a259": {
          "model_module": "@jupyter-widgets/controls",
          "model_name": "DescriptionStyleModel",
          "model_module_version": "1.5.0",
          "state": {
            "_model_module": "@jupyter-widgets/controls",
            "_model_module_version": "1.5.0",
            "_model_name": "DescriptionStyleModel",
            "_view_count": null,
            "_view_module": "@jupyter-widgets/base",
            "_view_module_version": "1.2.0",
            "_view_name": "StyleView",
            "description_width": ""
          }
        },
        "de9620a486c242f0804e03afa2b41e20": {
          "model_module": "@jupyter-widgets/controls",
          "model_name": "HBoxModel",
          "model_module_version": "1.5.0",
          "state": {
            "_dom_classes": [],
            "_model_module": "@jupyter-widgets/controls",
            "_model_module_version": "1.5.0",
            "_model_name": "HBoxModel",
            "_view_count": null,
            "_view_module": "@jupyter-widgets/controls",
            "_view_module_version": "1.5.0",
            "_view_name": "HBoxView",
            "box_style": "",
            "children": [
              "IPY_MODEL_e67d3ca282ae41f182c7b0cd08d85e2e",
              "IPY_MODEL_91832b4e2e7644b89eeccf80d34b0d6f",
              "IPY_MODEL_82596a6c0b62484cbd3d5fa3a6ced13b"
            ],
            "layout": "IPY_MODEL_4d1b0e8fa203415abe68986be429b814"
          }
        },
        "e67d3ca282ae41f182c7b0cd08d85e2e": {
          "model_module": "@jupyter-widgets/controls",
          "model_name": "HTMLModel",
          "model_module_version": "1.5.0",
          "state": {
            "_dom_classes": [],
            "_model_module": "@jupyter-widgets/controls",
            "_model_module_version": "1.5.0",
            "_model_name": "HTMLModel",
            "_view_count": null,
            "_view_module": "@jupyter-widgets/controls",
            "_view_module_version": "1.5.0",
            "_view_name": "HTMLView",
            "description": "",
            "description_tooltip": null,
            "layout": "IPY_MODEL_41ec78c57e8e4967a8696496a0aab531",
            "placeholder": "​",
            "style": "IPY_MODEL_35da82789a0c4b42a1c47c53dc08e0fa",
            "value": "config.json: 100%"
          }
        },
        "91832b4e2e7644b89eeccf80d34b0d6f": {
          "model_module": "@jupyter-widgets/controls",
          "model_name": "FloatProgressModel",
          "model_module_version": "1.5.0",
          "state": {
            "_dom_classes": [],
            "_model_module": "@jupyter-widgets/controls",
            "_model_module_version": "1.5.0",
            "_model_name": "FloatProgressModel",
            "_view_count": null,
            "_view_module": "@jupyter-widgets/controls",
            "_view_module_version": "1.5.0",
            "_view_name": "ProgressView",
            "bar_style": "success",
            "description": "",
            "description_tooltip": null,
            "layout": "IPY_MODEL_96f48a768e43483b95730aca4deb85f9",
            "max": 570,
            "min": 0,
            "orientation": "horizontal",
            "style": "IPY_MODEL_1ec0dcbbde3648538f92a6565a463caf",
            "value": 570
          }
        },
        "82596a6c0b62484cbd3d5fa3a6ced13b": {
          "model_module": "@jupyter-widgets/controls",
          "model_name": "HTMLModel",
          "model_module_version": "1.5.0",
          "state": {
            "_dom_classes": [],
            "_model_module": "@jupyter-widgets/controls",
            "_model_module_version": "1.5.0",
            "_model_name": "HTMLModel",
            "_view_count": null,
            "_view_module": "@jupyter-widgets/controls",
            "_view_module_version": "1.5.0",
            "_view_name": "HTMLView",
            "description": "",
            "description_tooltip": null,
            "layout": "IPY_MODEL_832d3f64c37d4857916f8c32f23527ec",
            "placeholder": "​",
            "style": "IPY_MODEL_c4de546291ce48068393e8c0c371a789",
            "value": " 570/570 [00:00&lt;00:00, 60.9kB/s]"
          }
        },
        "4d1b0e8fa203415abe68986be429b814": {
          "model_module": "@jupyter-widgets/base",
          "model_name": "LayoutModel",
          "model_module_version": "1.2.0",
          "state": {
            "_model_module": "@jupyter-widgets/base",
            "_model_module_version": "1.2.0",
            "_model_name": "LayoutModel",
            "_view_count": null,
            "_view_module": "@jupyter-widgets/base",
            "_view_module_version": "1.2.0",
            "_view_name": "LayoutView",
            "align_content": null,
            "align_items": null,
            "align_self": null,
            "border": null,
            "bottom": null,
            "display": null,
            "flex": null,
            "flex_flow": null,
            "grid_area": null,
            "grid_auto_columns": null,
            "grid_auto_flow": null,
            "grid_auto_rows": null,
            "grid_column": null,
            "grid_gap": null,
            "grid_row": null,
            "grid_template_areas": null,
            "grid_template_columns": null,
            "grid_template_rows": null,
            "height": null,
            "justify_content": null,
            "justify_items": null,
            "left": null,
            "margin": null,
            "max_height": null,
            "max_width": null,
            "min_height": null,
            "min_width": null,
            "object_fit": null,
            "object_position": null,
            "order": null,
            "overflow": null,
            "overflow_x": null,
            "overflow_y": null,
            "padding": null,
            "right": null,
            "top": null,
            "visibility": null,
            "width": null
          }
        },
        "41ec78c57e8e4967a8696496a0aab531": {
          "model_module": "@jupyter-widgets/base",
          "model_name": "LayoutModel",
          "model_module_version": "1.2.0",
          "state": {
            "_model_module": "@jupyter-widgets/base",
            "_model_module_version": "1.2.0",
            "_model_name": "LayoutModel",
            "_view_count": null,
            "_view_module": "@jupyter-widgets/base",
            "_view_module_version": "1.2.0",
            "_view_name": "LayoutView",
            "align_content": null,
            "align_items": null,
            "align_self": null,
            "border": null,
            "bottom": null,
            "display": null,
            "flex": null,
            "flex_flow": null,
            "grid_area": null,
            "grid_auto_columns": null,
            "grid_auto_flow": null,
            "grid_auto_rows": null,
            "grid_column": null,
            "grid_gap": null,
            "grid_row": null,
            "grid_template_areas": null,
            "grid_template_columns": null,
            "grid_template_rows": null,
            "height": null,
            "justify_content": null,
            "justify_items": null,
            "left": null,
            "margin": null,
            "max_height": null,
            "max_width": null,
            "min_height": null,
            "min_width": null,
            "object_fit": null,
            "object_position": null,
            "order": null,
            "overflow": null,
            "overflow_x": null,
            "overflow_y": null,
            "padding": null,
            "right": null,
            "top": null,
            "visibility": null,
            "width": null
          }
        },
        "35da82789a0c4b42a1c47c53dc08e0fa": {
          "model_module": "@jupyter-widgets/controls",
          "model_name": "DescriptionStyleModel",
          "model_module_version": "1.5.0",
          "state": {
            "_model_module": "@jupyter-widgets/controls",
            "_model_module_version": "1.5.0",
            "_model_name": "DescriptionStyleModel",
            "_view_count": null,
            "_view_module": "@jupyter-widgets/base",
            "_view_module_version": "1.2.0",
            "_view_name": "StyleView",
            "description_width": ""
          }
        },
        "96f48a768e43483b95730aca4deb85f9": {
          "model_module": "@jupyter-widgets/base",
          "model_name": "LayoutModel",
          "model_module_version": "1.2.0",
          "state": {
            "_model_module": "@jupyter-widgets/base",
            "_model_module_version": "1.2.0",
            "_model_name": "LayoutModel",
            "_view_count": null,
            "_view_module": "@jupyter-widgets/base",
            "_view_module_version": "1.2.0",
            "_view_name": "LayoutView",
            "align_content": null,
            "align_items": null,
            "align_self": null,
            "border": null,
            "bottom": null,
            "display": null,
            "flex": null,
            "flex_flow": null,
            "grid_area": null,
            "grid_auto_columns": null,
            "grid_auto_flow": null,
            "grid_auto_rows": null,
            "grid_column": null,
            "grid_gap": null,
            "grid_row": null,
            "grid_template_areas": null,
            "grid_template_columns": null,
            "grid_template_rows": null,
            "height": null,
            "justify_content": null,
            "justify_items": null,
            "left": null,
            "margin": null,
            "max_height": null,
            "max_width": null,
            "min_height": null,
            "min_width": null,
            "object_fit": null,
            "object_position": null,
            "order": null,
            "overflow": null,
            "overflow_x": null,
            "overflow_y": null,
            "padding": null,
            "right": null,
            "top": null,
            "visibility": null,
            "width": null
          }
        },
        "1ec0dcbbde3648538f92a6565a463caf": {
          "model_module": "@jupyter-widgets/controls",
          "model_name": "ProgressStyleModel",
          "model_module_version": "1.5.0",
          "state": {
            "_model_module": "@jupyter-widgets/controls",
            "_model_module_version": "1.5.0",
            "_model_name": "ProgressStyleModel",
            "_view_count": null,
            "_view_module": "@jupyter-widgets/base",
            "_view_module_version": "1.2.0",
            "_view_name": "StyleView",
            "bar_color": null,
            "description_width": ""
          }
        },
        "832d3f64c37d4857916f8c32f23527ec": {
          "model_module": "@jupyter-widgets/base",
          "model_name": "LayoutModel",
          "model_module_version": "1.2.0",
          "state": {
            "_model_module": "@jupyter-widgets/base",
            "_model_module_version": "1.2.0",
            "_model_name": "LayoutModel",
            "_view_count": null,
            "_view_module": "@jupyter-widgets/base",
            "_view_module_version": "1.2.0",
            "_view_name": "LayoutView",
            "align_content": null,
            "align_items": null,
            "align_self": null,
            "border": null,
            "bottom": null,
            "display": null,
            "flex": null,
            "flex_flow": null,
            "grid_area": null,
            "grid_auto_columns": null,
            "grid_auto_flow": null,
            "grid_auto_rows": null,
            "grid_column": null,
            "grid_gap": null,
            "grid_row": null,
            "grid_template_areas": null,
            "grid_template_columns": null,
            "grid_template_rows": null,
            "height": null,
            "justify_content": null,
            "justify_items": null,
            "left": null,
            "margin": null,
            "max_height": null,
            "max_width": null,
            "min_height": null,
            "min_width": null,
            "object_fit": null,
            "object_position": null,
            "order": null,
            "overflow": null,
            "overflow_x": null,
            "overflow_y": null,
            "padding": null,
            "right": null,
            "top": null,
            "visibility": null,
            "width": null
          }
        },
        "c4de546291ce48068393e8c0c371a789": {
          "model_module": "@jupyter-widgets/controls",
          "model_name": "DescriptionStyleModel",
          "model_module_version": "1.5.0",
          "state": {
            "_model_module": "@jupyter-widgets/controls",
            "_model_module_version": "1.5.0",
            "_model_name": "DescriptionStyleModel",
            "_view_count": null,
            "_view_module": "@jupyter-widgets/base",
            "_view_module_version": "1.2.0",
            "_view_name": "StyleView",
            "description_width": ""
          }
        },
        "1667778e64674eb7a0bfecc84b1700d5": {
          "model_module": "@jupyter-widgets/controls",
          "model_name": "HBoxModel",
          "model_module_version": "1.5.0",
          "state": {
            "_dom_classes": [],
            "_model_module": "@jupyter-widgets/controls",
            "_model_module_version": "1.5.0",
            "_model_name": "HBoxModel",
            "_view_count": null,
            "_view_module": "@jupyter-widgets/controls",
            "_view_module_version": "1.5.0",
            "_view_name": "HBoxView",
            "box_style": "",
            "children": [
              "IPY_MODEL_08cd2e806e5141da915ae399a9d8ff0b",
              "IPY_MODEL_dd276b8452974a52baf9ac44af43488a",
              "IPY_MODEL_8c73971f1038402aa5410d365283036c"
            ],
            "layout": "IPY_MODEL_5d547144981f4f8cbcf8db8b2a9b0aa9"
          }
        },
        "08cd2e806e5141da915ae399a9d8ff0b": {
          "model_module": "@jupyter-widgets/controls",
          "model_name": "HTMLModel",
          "model_module_version": "1.5.0",
          "state": {
            "_dom_classes": [],
            "_model_module": "@jupyter-widgets/controls",
            "_model_module_version": "1.5.0",
            "_model_name": "HTMLModel",
            "_view_count": null,
            "_view_module": "@jupyter-widgets/controls",
            "_view_module_version": "1.5.0",
            "_view_name": "HTMLView",
            "description": "",
            "description_tooltip": null,
            "layout": "IPY_MODEL_ebf924935a3c48fb85857e81a211f834",
            "placeholder": "​",
            "style": "IPY_MODEL_e40ec64e553f4f338c3e771667884f40",
            "value": "vocab.txt: 100%"
          }
        },
        "dd276b8452974a52baf9ac44af43488a": {
          "model_module": "@jupyter-widgets/controls",
          "model_name": "FloatProgressModel",
          "model_module_version": "1.5.0",
          "state": {
            "_dom_classes": [],
            "_model_module": "@jupyter-widgets/controls",
            "_model_module_version": "1.5.0",
            "_model_name": "FloatProgressModel",
            "_view_count": null,
            "_view_module": "@jupyter-widgets/controls",
            "_view_module_version": "1.5.0",
            "_view_name": "ProgressView",
            "bar_style": "success",
            "description": "",
            "description_tooltip": null,
            "layout": "IPY_MODEL_4f3ad1898f2b4752b9b2daf8e09464e8",
            "max": 231508,
            "min": 0,
            "orientation": "horizontal",
            "style": "IPY_MODEL_274e361ea9e84218babdf0261b5bd203",
            "value": 231508
          }
        },
        "8c73971f1038402aa5410d365283036c": {
          "model_module": "@jupyter-widgets/controls",
          "model_name": "HTMLModel",
          "model_module_version": "1.5.0",
          "state": {
            "_dom_classes": [],
            "_model_module": "@jupyter-widgets/controls",
            "_model_module_version": "1.5.0",
            "_model_name": "HTMLModel",
            "_view_count": null,
            "_view_module": "@jupyter-widgets/controls",
            "_view_module_version": "1.5.0",
            "_view_name": "HTMLView",
            "description": "",
            "description_tooltip": null,
            "layout": "IPY_MODEL_e1eac731a9ec4709ace6209e59a55717",
            "placeholder": "​",
            "style": "IPY_MODEL_1e9de96206b74ee7bc213ee15e1afe72",
            "value": " 232k/232k [00:00&lt;00:00, 16.2MB/s]"
          }
        },
        "5d547144981f4f8cbcf8db8b2a9b0aa9": {
          "model_module": "@jupyter-widgets/base",
          "model_name": "LayoutModel",
          "model_module_version": "1.2.0",
          "state": {
            "_model_module": "@jupyter-widgets/base",
            "_model_module_version": "1.2.0",
            "_model_name": "LayoutModel",
            "_view_count": null,
            "_view_module": "@jupyter-widgets/base",
            "_view_module_version": "1.2.0",
            "_view_name": "LayoutView",
            "align_content": null,
            "align_items": null,
            "align_self": null,
            "border": null,
            "bottom": null,
            "display": null,
            "flex": null,
            "flex_flow": null,
            "grid_area": null,
            "grid_auto_columns": null,
            "grid_auto_flow": null,
            "grid_auto_rows": null,
            "grid_column": null,
            "grid_gap": null,
            "grid_row": null,
            "grid_template_areas": null,
            "grid_template_columns": null,
            "grid_template_rows": null,
            "height": null,
            "justify_content": null,
            "justify_items": null,
            "left": null,
            "margin": null,
            "max_height": null,
            "max_width": null,
            "min_height": null,
            "min_width": null,
            "object_fit": null,
            "object_position": null,
            "order": null,
            "overflow": null,
            "overflow_x": null,
            "overflow_y": null,
            "padding": null,
            "right": null,
            "top": null,
            "visibility": null,
            "width": null
          }
        },
        "ebf924935a3c48fb85857e81a211f834": {
          "model_module": "@jupyter-widgets/base",
          "model_name": "LayoutModel",
          "model_module_version": "1.2.0",
          "state": {
            "_model_module": "@jupyter-widgets/base",
            "_model_module_version": "1.2.0",
            "_model_name": "LayoutModel",
            "_view_count": null,
            "_view_module": "@jupyter-widgets/base",
            "_view_module_version": "1.2.0",
            "_view_name": "LayoutView",
            "align_content": null,
            "align_items": null,
            "align_self": null,
            "border": null,
            "bottom": null,
            "display": null,
            "flex": null,
            "flex_flow": null,
            "grid_area": null,
            "grid_auto_columns": null,
            "grid_auto_flow": null,
            "grid_auto_rows": null,
            "grid_column": null,
            "grid_gap": null,
            "grid_row": null,
            "grid_template_areas": null,
            "grid_template_columns": null,
            "grid_template_rows": null,
            "height": null,
            "justify_content": null,
            "justify_items": null,
            "left": null,
            "margin": null,
            "max_height": null,
            "max_width": null,
            "min_height": null,
            "min_width": null,
            "object_fit": null,
            "object_position": null,
            "order": null,
            "overflow": null,
            "overflow_x": null,
            "overflow_y": null,
            "padding": null,
            "right": null,
            "top": null,
            "visibility": null,
            "width": null
          }
        },
        "e40ec64e553f4f338c3e771667884f40": {
          "model_module": "@jupyter-widgets/controls",
          "model_name": "DescriptionStyleModel",
          "model_module_version": "1.5.0",
          "state": {
            "_model_module": "@jupyter-widgets/controls",
            "_model_module_version": "1.5.0",
            "_model_name": "DescriptionStyleModel",
            "_view_count": null,
            "_view_module": "@jupyter-widgets/base",
            "_view_module_version": "1.2.0",
            "_view_name": "StyleView",
            "description_width": ""
          }
        },
        "4f3ad1898f2b4752b9b2daf8e09464e8": {
          "model_module": "@jupyter-widgets/base",
          "model_name": "LayoutModel",
          "model_module_version": "1.2.0",
          "state": {
            "_model_module": "@jupyter-widgets/base",
            "_model_module_version": "1.2.0",
            "_model_name": "LayoutModel",
            "_view_count": null,
            "_view_module": "@jupyter-widgets/base",
            "_view_module_version": "1.2.0",
            "_view_name": "LayoutView",
            "align_content": null,
            "align_items": null,
            "align_self": null,
            "border": null,
            "bottom": null,
            "display": null,
            "flex": null,
            "flex_flow": null,
            "grid_area": null,
            "grid_auto_columns": null,
            "grid_auto_flow": null,
            "grid_auto_rows": null,
            "grid_column": null,
            "grid_gap": null,
            "grid_row": null,
            "grid_template_areas": null,
            "grid_template_columns": null,
            "grid_template_rows": null,
            "height": null,
            "justify_content": null,
            "justify_items": null,
            "left": null,
            "margin": null,
            "max_height": null,
            "max_width": null,
            "min_height": null,
            "min_width": null,
            "object_fit": null,
            "object_position": null,
            "order": null,
            "overflow": null,
            "overflow_x": null,
            "overflow_y": null,
            "padding": null,
            "right": null,
            "top": null,
            "visibility": null,
            "width": null
          }
        },
        "274e361ea9e84218babdf0261b5bd203": {
          "model_module": "@jupyter-widgets/controls",
          "model_name": "ProgressStyleModel",
          "model_module_version": "1.5.0",
          "state": {
            "_model_module": "@jupyter-widgets/controls",
            "_model_module_version": "1.5.0",
            "_model_name": "ProgressStyleModel",
            "_view_count": null,
            "_view_module": "@jupyter-widgets/base",
            "_view_module_version": "1.2.0",
            "_view_name": "StyleView",
            "bar_color": null,
            "description_width": ""
          }
        },
        "e1eac731a9ec4709ace6209e59a55717": {
          "model_module": "@jupyter-widgets/base",
          "model_name": "LayoutModel",
          "model_module_version": "1.2.0",
          "state": {
            "_model_module": "@jupyter-widgets/base",
            "_model_module_version": "1.2.0",
            "_model_name": "LayoutModel",
            "_view_count": null,
            "_view_module": "@jupyter-widgets/base",
            "_view_module_version": "1.2.0",
            "_view_name": "LayoutView",
            "align_content": null,
            "align_items": null,
            "align_self": null,
            "border": null,
            "bottom": null,
            "display": null,
            "flex": null,
            "flex_flow": null,
            "grid_area": null,
            "grid_auto_columns": null,
            "grid_auto_flow": null,
            "grid_auto_rows": null,
            "grid_column": null,
            "grid_gap": null,
            "grid_row": null,
            "grid_template_areas": null,
            "grid_template_columns": null,
            "grid_template_rows": null,
            "height": null,
            "justify_content": null,
            "justify_items": null,
            "left": null,
            "margin": null,
            "max_height": null,
            "max_width": null,
            "min_height": null,
            "min_width": null,
            "object_fit": null,
            "object_position": null,
            "order": null,
            "overflow": null,
            "overflow_x": null,
            "overflow_y": null,
            "padding": null,
            "right": null,
            "top": null,
            "visibility": null,
            "width": null
          }
        },
        "1e9de96206b74ee7bc213ee15e1afe72": {
          "model_module": "@jupyter-widgets/controls",
          "model_name": "DescriptionStyleModel",
          "model_module_version": "1.5.0",
          "state": {
            "_model_module": "@jupyter-widgets/controls",
            "_model_module_version": "1.5.0",
            "_model_name": "DescriptionStyleModel",
            "_view_count": null,
            "_view_module": "@jupyter-widgets/base",
            "_view_module_version": "1.2.0",
            "_view_name": "StyleView",
            "description_width": ""
          }
        },
        "4b64b4273d2b498d9a184b06b92fe336": {
          "model_module": "@jupyter-widgets/controls",
          "model_name": "HBoxModel",
          "model_module_version": "1.5.0",
          "state": {
            "_dom_classes": [],
            "_model_module": "@jupyter-widgets/controls",
            "_model_module_version": "1.5.0",
            "_model_name": "HBoxModel",
            "_view_count": null,
            "_view_module": "@jupyter-widgets/controls",
            "_view_module_version": "1.5.0",
            "_view_name": "HBoxView",
            "box_style": "",
            "children": [
              "IPY_MODEL_2aae79ece1844b6ea206415df32b2b76",
              "IPY_MODEL_a700cc70d5814052872d6b514ee751bd",
              "IPY_MODEL_19c5b5ba85284827a26d711be0c37afd"
            ],
            "layout": "IPY_MODEL_ab2f298dc47c42179b37000c9fe9a4cb"
          }
        },
        "2aae79ece1844b6ea206415df32b2b76": {
          "model_module": "@jupyter-widgets/controls",
          "model_name": "HTMLModel",
          "model_module_version": "1.5.0",
          "state": {
            "_dom_classes": [],
            "_model_module": "@jupyter-widgets/controls",
            "_model_module_version": "1.5.0",
            "_model_name": "HTMLModel",
            "_view_count": null,
            "_view_module": "@jupyter-widgets/controls",
            "_view_module_version": "1.5.0",
            "_view_name": "HTMLView",
            "description": "",
            "description_tooltip": null,
            "layout": "IPY_MODEL_0a082fd38abe4d21995703e97b8dc308",
            "placeholder": "​",
            "style": "IPY_MODEL_590b05334d04445581d646db571725a0",
            "value": "tokenizer.json: 100%"
          }
        },
        "a700cc70d5814052872d6b514ee751bd": {
          "model_module": "@jupyter-widgets/controls",
          "model_name": "FloatProgressModel",
          "model_module_version": "1.5.0",
          "state": {
            "_dom_classes": [],
            "_model_module": "@jupyter-widgets/controls",
            "_model_module_version": "1.5.0",
            "_model_name": "FloatProgressModel",
            "_view_count": null,
            "_view_module": "@jupyter-widgets/controls",
            "_view_module_version": "1.5.0",
            "_view_name": "ProgressView",
            "bar_style": "success",
            "description": "",
            "description_tooltip": null,
            "layout": "IPY_MODEL_f5155dc75ba64798a0cb8c875fc75d1e",
            "max": 466062,
            "min": 0,
            "orientation": "horizontal",
            "style": "IPY_MODEL_7ebf6308c25c4c3fbd032bddbae7cf80",
            "value": 466062
          }
        },
        "19c5b5ba85284827a26d711be0c37afd": {
          "model_module": "@jupyter-widgets/controls",
          "model_name": "HTMLModel",
          "model_module_version": "1.5.0",
          "state": {
            "_dom_classes": [],
            "_model_module": "@jupyter-widgets/controls",
            "_model_module_version": "1.5.0",
            "_model_name": "HTMLModel",
            "_view_count": null,
            "_view_module": "@jupyter-widgets/controls",
            "_view_module_version": "1.5.0",
            "_view_name": "HTMLView",
            "description": "",
            "description_tooltip": null,
            "layout": "IPY_MODEL_6df9de80b2ea45f4b7eaad310dd0168f",
            "placeholder": "​",
            "style": "IPY_MODEL_d58473d2a6cc43b198c5a59c3149d211",
            "value": " 466k/466k [00:00&lt;00:00, 2.16MB/s]"
          }
        },
        "ab2f298dc47c42179b37000c9fe9a4cb": {
          "model_module": "@jupyter-widgets/base",
          "model_name": "LayoutModel",
          "model_module_version": "1.2.0",
          "state": {
            "_model_module": "@jupyter-widgets/base",
            "_model_module_version": "1.2.0",
            "_model_name": "LayoutModel",
            "_view_count": null,
            "_view_module": "@jupyter-widgets/base",
            "_view_module_version": "1.2.0",
            "_view_name": "LayoutView",
            "align_content": null,
            "align_items": null,
            "align_self": null,
            "border": null,
            "bottom": null,
            "display": null,
            "flex": null,
            "flex_flow": null,
            "grid_area": null,
            "grid_auto_columns": null,
            "grid_auto_flow": null,
            "grid_auto_rows": null,
            "grid_column": null,
            "grid_gap": null,
            "grid_row": null,
            "grid_template_areas": null,
            "grid_template_columns": null,
            "grid_template_rows": null,
            "height": null,
            "justify_content": null,
            "justify_items": null,
            "left": null,
            "margin": null,
            "max_height": null,
            "max_width": null,
            "min_height": null,
            "min_width": null,
            "object_fit": null,
            "object_position": null,
            "order": null,
            "overflow": null,
            "overflow_x": null,
            "overflow_y": null,
            "padding": null,
            "right": null,
            "top": null,
            "visibility": null,
            "width": null
          }
        },
        "0a082fd38abe4d21995703e97b8dc308": {
          "model_module": "@jupyter-widgets/base",
          "model_name": "LayoutModel",
          "model_module_version": "1.2.0",
          "state": {
            "_model_module": "@jupyter-widgets/base",
            "_model_module_version": "1.2.0",
            "_model_name": "LayoutModel",
            "_view_count": null,
            "_view_module": "@jupyter-widgets/base",
            "_view_module_version": "1.2.0",
            "_view_name": "LayoutView",
            "align_content": null,
            "align_items": null,
            "align_self": null,
            "border": null,
            "bottom": null,
            "display": null,
            "flex": null,
            "flex_flow": null,
            "grid_area": null,
            "grid_auto_columns": null,
            "grid_auto_flow": null,
            "grid_auto_rows": null,
            "grid_column": null,
            "grid_gap": null,
            "grid_row": null,
            "grid_template_areas": null,
            "grid_template_columns": null,
            "grid_template_rows": null,
            "height": null,
            "justify_content": null,
            "justify_items": null,
            "left": null,
            "margin": null,
            "max_height": null,
            "max_width": null,
            "min_height": null,
            "min_width": null,
            "object_fit": null,
            "object_position": null,
            "order": null,
            "overflow": null,
            "overflow_x": null,
            "overflow_y": null,
            "padding": null,
            "right": null,
            "top": null,
            "visibility": null,
            "width": null
          }
        },
        "590b05334d04445581d646db571725a0": {
          "model_module": "@jupyter-widgets/controls",
          "model_name": "DescriptionStyleModel",
          "model_module_version": "1.5.0",
          "state": {
            "_model_module": "@jupyter-widgets/controls",
            "_model_module_version": "1.5.0",
            "_model_name": "DescriptionStyleModel",
            "_view_count": null,
            "_view_module": "@jupyter-widgets/base",
            "_view_module_version": "1.2.0",
            "_view_name": "StyleView",
            "description_width": ""
          }
        },
        "f5155dc75ba64798a0cb8c875fc75d1e": {
          "model_module": "@jupyter-widgets/base",
          "model_name": "LayoutModel",
          "model_module_version": "1.2.0",
          "state": {
            "_model_module": "@jupyter-widgets/base",
            "_model_module_version": "1.2.0",
            "_model_name": "LayoutModel",
            "_view_count": null,
            "_view_module": "@jupyter-widgets/base",
            "_view_module_version": "1.2.0",
            "_view_name": "LayoutView",
            "align_content": null,
            "align_items": null,
            "align_self": null,
            "border": null,
            "bottom": null,
            "display": null,
            "flex": null,
            "flex_flow": null,
            "grid_area": null,
            "grid_auto_columns": null,
            "grid_auto_flow": null,
            "grid_auto_rows": null,
            "grid_column": null,
            "grid_gap": null,
            "grid_row": null,
            "grid_template_areas": null,
            "grid_template_columns": null,
            "grid_template_rows": null,
            "height": null,
            "justify_content": null,
            "justify_items": null,
            "left": null,
            "margin": null,
            "max_height": null,
            "max_width": null,
            "min_height": null,
            "min_width": null,
            "object_fit": null,
            "object_position": null,
            "order": null,
            "overflow": null,
            "overflow_x": null,
            "overflow_y": null,
            "padding": null,
            "right": null,
            "top": null,
            "visibility": null,
            "width": null
          }
        },
        "7ebf6308c25c4c3fbd032bddbae7cf80": {
          "model_module": "@jupyter-widgets/controls",
          "model_name": "ProgressStyleModel",
          "model_module_version": "1.5.0",
          "state": {
            "_model_module": "@jupyter-widgets/controls",
            "_model_module_version": "1.5.0",
            "_model_name": "ProgressStyleModel",
            "_view_count": null,
            "_view_module": "@jupyter-widgets/base",
            "_view_module_version": "1.2.0",
            "_view_name": "StyleView",
            "bar_color": null,
            "description_width": ""
          }
        },
        "6df9de80b2ea45f4b7eaad310dd0168f": {
          "model_module": "@jupyter-widgets/base",
          "model_name": "LayoutModel",
          "model_module_version": "1.2.0",
          "state": {
            "_model_module": "@jupyter-widgets/base",
            "_model_module_version": "1.2.0",
            "_model_name": "LayoutModel",
            "_view_count": null,
            "_view_module": "@jupyter-widgets/base",
            "_view_module_version": "1.2.0",
            "_view_name": "LayoutView",
            "align_content": null,
            "align_items": null,
            "align_self": null,
            "border": null,
            "bottom": null,
            "display": null,
            "flex": null,
            "flex_flow": null,
            "grid_area": null,
            "grid_auto_columns": null,
            "grid_auto_flow": null,
            "grid_auto_rows": null,
            "grid_column": null,
            "grid_gap": null,
            "grid_row": null,
            "grid_template_areas": null,
            "grid_template_columns": null,
            "grid_template_rows": null,
            "height": null,
            "justify_content": null,
            "justify_items": null,
            "left": null,
            "margin": null,
            "max_height": null,
            "max_width": null,
            "min_height": null,
            "min_width": null,
            "object_fit": null,
            "object_position": null,
            "order": null,
            "overflow": null,
            "overflow_x": null,
            "overflow_y": null,
            "padding": null,
            "right": null,
            "top": null,
            "visibility": null,
            "width": null
          }
        },
        "d58473d2a6cc43b198c5a59c3149d211": {
          "model_module": "@jupyter-widgets/controls",
          "model_name": "DescriptionStyleModel",
          "model_module_version": "1.5.0",
          "state": {
            "_model_module": "@jupyter-widgets/controls",
            "_model_module_version": "1.5.0",
            "_model_name": "DescriptionStyleModel",
            "_view_count": null,
            "_view_module": "@jupyter-widgets/base",
            "_view_module_version": "1.2.0",
            "_view_name": "StyleView",
            "description_width": ""
          }
        },
        "79f25104c6784bb4aabf9e3d9502b38e": {
          "model_module": "@jupyter-widgets/controls",
          "model_name": "HBoxModel",
          "model_module_version": "1.5.0",
          "state": {
            "_dom_classes": [],
            "_model_module": "@jupyter-widgets/controls",
            "_model_module_version": "1.5.0",
            "_model_name": "HBoxModel",
            "_view_count": null,
            "_view_module": "@jupyter-widgets/controls",
            "_view_module_version": "1.5.0",
            "_view_name": "HBoxView",
            "box_style": "",
            "children": [
              "IPY_MODEL_b7ae1552423240b2a801a49e25bd73bb",
              "IPY_MODEL_6b053c365a454fbe9a0160ccb462cc4b",
              "IPY_MODEL_ed3579bc1b8f48829960db8453ab518c"
            ],
            "layout": "IPY_MODEL_ddc1d87d8d334ec98f29d7ac3de5ee23"
          }
        },
        "b7ae1552423240b2a801a49e25bd73bb": {
          "model_module": "@jupyter-widgets/controls",
          "model_name": "HTMLModel",
          "model_module_version": "1.5.0",
          "state": {
            "_dom_classes": [],
            "_model_module": "@jupyter-widgets/controls",
            "_model_module_version": "1.5.0",
            "_model_name": "HTMLModel",
            "_view_count": null,
            "_view_module": "@jupyter-widgets/controls",
            "_view_module_version": "1.5.0",
            "_view_name": "HTMLView",
            "description": "",
            "description_tooltip": null,
            "layout": "IPY_MODEL_784f55e83e734469afd120e37e9adb14",
            "placeholder": "​",
            "style": "IPY_MODEL_b952df543f204a79ac1ea260fb7a5248",
            "value": "tokenizer_config.json: 100%"
          }
        },
        "6b053c365a454fbe9a0160ccb462cc4b": {
          "model_module": "@jupyter-widgets/controls",
          "model_name": "FloatProgressModel",
          "model_module_version": "1.5.0",
          "state": {
            "_dom_classes": [],
            "_model_module": "@jupyter-widgets/controls",
            "_model_module_version": "1.5.0",
            "_model_name": "FloatProgressModel",
            "_view_count": null,
            "_view_module": "@jupyter-widgets/controls",
            "_view_module_version": "1.5.0",
            "_view_name": "ProgressView",
            "bar_style": "success",
            "description": "",
            "description_tooltip": null,
            "layout": "IPY_MODEL_60a3328885ba46119d92ea0c56a9cb1f",
            "max": 252,
            "min": 0,
            "orientation": "horizontal",
            "style": "IPY_MODEL_53adaa0d6d3242d68c9dafba1f29b3e6",
            "value": 252
          }
        },
        "ed3579bc1b8f48829960db8453ab518c": {
          "model_module": "@jupyter-widgets/controls",
          "model_name": "HTMLModel",
          "model_module_version": "1.5.0",
          "state": {
            "_dom_classes": [],
            "_model_module": "@jupyter-widgets/controls",
            "_model_module_version": "1.5.0",
            "_model_name": "HTMLModel",
            "_view_count": null,
            "_view_module": "@jupyter-widgets/controls",
            "_view_module_version": "1.5.0",
            "_view_name": "HTMLView",
            "description": "",
            "description_tooltip": null,
            "layout": "IPY_MODEL_32f9a3b3e8e54141a60dd4e6eadba694",
            "placeholder": "​",
            "style": "IPY_MODEL_b884ccfe0be447bab4fd533a73655b64",
            "value": " 252/252 [00:00&lt;00:00, 29.1kB/s]"
          }
        },
        "ddc1d87d8d334ec98f29d7ac3de5ee23": {
          "model_module": "@jupyter-widgets/base",
          "model_name": "LayoutModel",
          "model_module_version": "1.2.0",
          "state": {
            "_model_module": "@jupyter-widgets/base",
            "_model_module_version": "1.2.0",
            "_model_name": "LayoutModel",
            "_view_count": null,
            "_view_module": "@jupyter-widgets/base",
            "_view_module_version": "1.2.0",
            "_view_name": "LayoutView",
            "align_content": null,
            "align_items": null,
            "align_self": null,
            "border": null,
            "bottom": null,
            "display": null,
            "flex": null,
            "flex_flow": null,
            "grid_area": null,
            "grid_auto_columns": null,
            "grid_auto_flow": null,
            "grid_auto_rows": null,
            "grid_column": null,
            "grid_gap": null,
            "grid_row": null,
            "grid_template_areas": null,
            "grid_template_columns": null,
            "grid_template_rows": null,
            "height": null,
            "justify_content": null,
            "justify_items": null,
            "left": null,
            "margin": null,
            "max_height": null,
            "max_width": null,
            "min_height": null,
            "min_width": null,
            "object_fit": null,
            "object_position": null,
            "order": null,
            "overflow": null,
            "overflow_x": null,
            "overflow_y": null,
            "padding": null,
            "right": null,
            "top": null,
            "visibility": null,
            "width": null
          }
        },
        "784f55e83e734469afd120e37e9adb14": {
          "model_module": "@jupyter-widgets/base",
          "model_name": "LayoutModel",
          "model_module_version": "1.2.0",
          "state": {
            "_model_module": "@jupyter-widgets/base",
            "_model_module_version": "1.2.0",
            "_model_name": "LayoutModel",
            "_view_count": null,
            "_view_module": "@jupyter-widgets/base",
            "_view_module_version": "1.2.0",
            "_view_name": "LayoutView",
            "align_content": null,
            "align_items": null,
            "align_self": null,
            "border": null,
            "bottom": null,
            "display": null,
            "flex": null,
            "flex_flow": null,
            "grid_area": null,
            "grid_auto_columns": null,
            "grid_auto_flow": null,
            "grid_auto_rows": null,
            "grid_column": null,
            "grid_gap": null,
            "grid_row": null,
            "grid_template_areas": null,
            "grid_template_columns": null,
            "grid_template_rows": null,
            "height": null,
            "justify_content": null,
            "justify_items": null,
            "left": null,
            "margin": null,
            "max_height": null,
            "max_width": null,
            "min_height": null,
            "min_width": null,
            "object_fit": null,
            "object_position": null,
            "order": null,
            "overflow": null,
            "overflow_x": null,
            "overflow_y": null,
            "padding": null,
            "right": null,
            "top": null,
            "visibility": null,
            "width": null
          }
        },
        "b952df543f204a79ac1ea260fb7a5248": {
          "model_module": "@jupyter-widgets/controls",
          "model_name": "DescriptionStyleModel",
          "model_module_version": "1.5.0",
          "state": {
            "_model_module": "@jupyter-widgets/controls",
            "_model_module_version": "1.5.0",
            "_model_name": "DescriptionStyleModel",
            "_view_count": null,
            "_view_module": "@jupyter-widgets/base",
            "_view_module_version": "1.2.0",
            "_view_name": "StyleView",
            "description_width": ""
          }
        },
        "60a3328885ba46119d92ea0c56a9cb1f": {
          "model_module": "@jupyter-widgets/base",
          "model_name": "LayoutModel",
          "model_module_version": "1.2.0",
          "state": {
            "_model_module": "@jupyter-widgets/base",
            "_model_module_version": "1.2.0",
            "_model_name": "LayoutModel",
            "_view_count": null,
            "_view_module": "@jupyter-widgets/base",
            "_view_module_version": "1.2.0",
            "_view_name": "LayoutView",
            "align_content": null,
            "align_items": null,
            "align_self": null,
            "border": null,
            "bottom": null,
            "display": null,
            "flex": null,
            "flex_flow": null,
            "grid_area": null,
            "grid_auto_columns": null,
            "grid_auto_flow": null,
            "grid_auto_rows": null,
            "grid_column": null,
            "grid_gap": null,
            "grid_row": null,
            "grid_template_areas": null,
            "grid_template_columns": null,
            "grid_template_rows": null,
            "height": null,
            "justify_content": null,
            "justify_items": null,
            "left": null,
            "margin": null,
            "max_height": null,
            "max_width": null,
            "min_height": null,
            "min_width": null,
            "object_fit": null,
            "object_position": null,
            "order": null,
            "overflow": null,
            "overflow_x": null,
            "overflow_y": null,
            "padding": null,
            "right": null,
            "top": null,
            "visibility": null,
            "width": null
          }
        },
        "53adaa0d6d3242d68c9dafba1f29b3e6": {
          "model_module": "@jupyter-widgets/controls",
          "model_name": "ProgressStyleModel",
          "model_module_version": "1.5.0",
          "state": {
            "_model_module": "@jupyter-widgets/controls",
            "_model_module_version": "1.5.0",
            "_model_name": "ProgressStyleModel",
            "_view_count": null,
            "_view_module": "@jupyter-widgets/base",
            "_view_module_version": "1.2.0",
            "_view_name": "StyleView",
            "bar_color": null,
            "description_width": ""
          }
        },
        "32f9a3b3e8e54141a60dd4e6eadba694": {
          "model_module": "@jupyter-widgets/base",
          "model_name": "LayoutModel",
          "model_module_version": "1.2.0",
          "state": {
            "_model_module": "@jupyter-widgets/base",
            "_model_module_version": "1.2.0",
            "_model_name": "LayoutModel",
            "_view_count": null,
            "_view_module": "@jupyter-widgets/base",
            "_view_module_version": "1.2.0",
            "_view_name": "LayoutView",
            "align_content": null,
            "align_items": null,
            "align_self": null,
            "border": null,
            "bottom": null,
            "display": null,
            "flex": null,
            "flex_flow": null,
            "grid_area": null,
            "grid_auto_columns": null,
            "grid_auto_flow": null,
            "grid_auto_rows": null,
            "grid_column": null,
            "grid_gap": null,
            "grid_row": null,
            "grid_template_areas": null,
            "grid_template_columns": null,
            "grid_template_rows": null,
            "height": null,
            "justify_content": null,
            "justify_items": null,
            "left": null,
            "margin": null,
            "max_height": null,
            "max_width": null,
            "min_height": null,
            "min_width": null,
            "object_fit": null,
            "object_position": null,
            "order": null,
            "overflow": null,
            "overflow_x": null,
            "overflow_y": null,
            "padding": null,
            "right": null,
            "top": null,
            "visibility": null,
            "width": null
          }
        },
        "b884ccfe0be447bab4fd533a73655b64": {
          "model_module": "@jupyter-widgets/controls",
          "model_name": "DescriptionStyleModel",
          "model_module_version": "1.5.0",
          "state": {
            "_model_module": "@jupyter-widgets/controls",
            "_model_module_version": "1.5.0",
            "_model_name": "DescriptionStyleModel",
            "_view_count": null,
            "_view_module": "@jupyter-widgets/base",
            "_view_module_version": "1.2.0",
            "_view_name": "StyleView",
            "description_width": ""
          }
        },
        "601bae4b41114dba93dbb29fbd87f598": {
          "model_module": "@jupyter-widgets/controls",
          "model_name": "HBoxModel",
          "model_module_version": "1.5.0",
          "state": {
            "_dom_classes": [],
            "_model_module": "@jupyter-widgets/controls",
            "_model_module_version": "1.5.0",
            "_model_name": "HBoxModel",
            "_view_count": null,
            "_view_module": "@jupyter-widgets/controls",
            "_view_module_version": "1.5.0",
            "_view_name": "HBoxView",
            "box_style": "",
            "children": [
              "IPY_MODEL_c056c502d57f401c978160609915a1b0",
              "IPY_MODEL_4851ee03b1054c6a96232b6134e1ce8e",
              "IPY_MODEL_98fd8f4a6ef846218f5f03be1f8e6407"
            ],
            "layout": "IPY_MODEL_c289f953c02b47719a9d0a2414aa0f48"
          }
        },
        "c056c502d57f401c978160609915a1b0": {
          "model_module": "@jupyter-widgets/controls",
          "model_name": "HTMLModel",
          "model_module_version": "1.5.0",
          "state": {
            "_dom_classes": [],
            "_model_module": "@jupyter-widgets/controls",
            "_model_module_version": "1.5.0",
            "_model_name": "HTMLModel",
            "_view_count": null,
            "_view_module": "@jupyter-widgets/controls",
            "_view_module_version": "1.5.0",
            "_view_name": "HTMLView",
            "description": "",
            "description_tooltip": null,
            "layout": "IPY_MODEL_e1bbd3314ef54e219442ffab3c403cc8",
            "placeholder": "​",
            "style": "IPY_MODEL_d98dffa2de9242cda1f7140addde8fed",
            "value": "config.json: 100%"
          }
        },
        "4851ee03b1054c6a96232b6134e1ce8e": {
          "model_module": "@jupyter-widgets/controls",
          "model_name": "FloatProgressModel",
          "model_module_version": "1.5.0",
          "state": {
            "_dom_classes": [],
            "_model_module": "@jupyter-widgets/controls",
            "_model_module_version": "1.5.0",
            "_model_name": "FloatProgressModel",
            "_view_count": null,
            "_view_module": "@jupyter-widgets/controls",
            "_view_module_version": "1.5.0",
            "_view_name": "ProgressView",
            "bar_style": "success",
            "description": "",
            "description_tooltip": null,
            "layout": "IPY_MODEL_9822cc0a41a441c2bb2ac55b74ae1ebd",
            "max": 758,
            "min": 0,
            "orientation": "horizontal",
            "style": "IPY_MODEL_21d18dadeedb433c940384982c8f10c5",
            "value": 758
          }
        },
        "98fd8f4a6ef846218f5f03be1f8e6407": {
          "model_module": "@jupyter-widgets/controls",
          "model_name": "HTMLModel",
          "model_module_version": "1.5.0",
          "state": {
            "_dom_classes": [],
            "_model_module": "@jupyter-widgets/controls",
            "_model_module_version": "1.5.0",
            "_model_name": "HTMLModel",
            "_view_count": null,
            "_view_module": "@jupyter-widgets/controls",
            "_view_module_version": "1.5.0",
            "_view_name": "HTMLView",
            "description": "",
            "description_tooltip": null,
            "layout": "IPY_MODEL_aa36efce6cff454e801efa7b6c9ffcf0",
            "placeholder": "​",
            "style": "IPY_MODEL_9a63def25d2246b382d96b34345043e2",
            "value": " 758/758 [00:00&lt;00:00, 83.8kB/s]"
          }
        },
        "c289f953c02b47719a9d0a2414aa0f48": {
          "model_module": "@jupyter-widgets/base",
          "model_name": "LayoutModel",
          "model_module_version": "1.2.0",
          "state": {
            "_model_module": "@jupyter-widgets/base",
            "_model_module_version": "1.2.0",
            "_model_name": "LayoutModel",
            "_view_count": null,
            "_view_module": "@jupyter-widgets/base",
            "_view_module_version": "1.2.0",
            "_view_name": "LayoutView",
            "align_content": null,
            "align_items": null,
            "align_self": null,
            "border": null,
            "bottom": null,
            "display": null,
            "flex": null,
            "flex_flow": null,
            "grid_area": null,
            "grid_auto_columns": null,
            "grid_auto_flow": null,
            "grid_auto_rows": null,
            "grid_column": null,
            "grid_gap": null,
            "grid_row": null,
            "grid_template_areas": null,
            "grid_template_columns": null,
            "grid_template_rows": null,
            "height": null,
            "justify_content": null,
            "justify_items": null,
            "left": null,
            "margin": null,
            "max_height": null,
            "max_width": null,
            "min_height": null,
            "min_width": null,
            "object_fit": null,
            "object_position": null,
            "order": null,
            "overflow": null,
            "overflow_x": null,
            "overflow_y": null,
            "padding": null,
            "right": null,
            "top": null,
            "visibility": null,
            "width": null
          }
        },
        "e1bbd3314ef54e219442ffab3c403cc8": {
          "model_module": "@jupyter-widgets/base",
          "model_name": "LayoutModel",
          "model_module_version": "1.2.0",
          "state": {
            "_model_module": "@jupyter-widgets/base",
            "_model_module_version": "1.2.0",
            "_model_name": "LayoutModel",
            "_view_count": null,
            "_view_module": "@jupyter-widgets/base",
            "_view_module_version": "1.2.0",
            "_view_name": "LayoutView",
            "align_content": null,
            "align_items": null,
            "align_self": null,
            "border": null,
            "bottom": null,
            "display": null,
            "flex": null,
            "flex_flow": null,
            "grid_area": null,
            "grid_auto_columns": null,
            "grid_auto_flow": null,
            "grid_auto_rows": null,
            "grid_column": null,
            "grid_gap": null,
            "grid_row": null,
            "grid_template_areas": null,
            "grid_template_columns": null,
            "grid_template_rows": null,
            "height": null,
            "justify_content": null,
            "justify_items": null,
            "left": null,
            "margin": null,
            "max_height": null,
            "max_width": null,
            "min_height": null,
            "min_width": null,
            "object_fit": null,
            "object_position": null,
            "order": null,
            "overflow": null,
            "overflow_x": null,
            "overflow_y": null,
            "padding": null,
            "right": null,
            "top": null,
            "visibility": null,
            "width": null
          }
        },
        "d98dffa2de9242cda1f7140addde8fed": {
          "model_module": "@jupyter-widgets/controls",
          "model_name": "DescriptionStyleModel",
          "model_module_version": "1.5.0",
          "state": {
            "_model_module": "@jupyter-widgets/controls",
            "_model_module_version": "1.5.0",
            "_model_name": "DescriptionStyleModel",
            "_view_count": null,
            "_view_module": "@jupyter-widgets/base",
            "_view_module_version": "1.2.0",
            "_view_name": "StyleView",
            "description_width": ""
          }
        },
        "9822cc0a41a441c2bb2ac55b74ae1ebd": {
          "model_module": "@jupyter-widgets/base",
          "model_name": "LayoutModel",
          "model_module_version": "1.2.0",
          "state": {
            "_model_module": "@jupyter-widgets/base",
            "_model_module_version": "1.2.0",
            "_model_name": "LayoutModel",
            "_view_count": null,
            "_view_module": "@jupyter-widgets/base",
            "_view_module_version": "1.2.0",
            "_view_name": "LayoutView",
            "align_content": null,
            "align_items": null,
            "align_self": null,
            "border": null,
            "bottom": null,
            "display": null,
            "flex": null,
            "flex_flow": null,
            "grid_area": null,
            "grid_auto_columns": null,
            "grid_auto_flow": null,
            "grid_auto_rows": null,
            "grid_column": null,
            "grid_gap": null,
            "grid_row": null,
            "grid_template_areas": null,
            "grid_template_columns": null,
            "grid_template_rows": null,
            "height": null,
            "justify_content": null,
            "justify_items": null,
            "left": null,
            "margin": null,
            "max_height": null,
            "max_width": null,
            "min_height": null,
            "min_width": null,
            "object_fit": null,
            "object_position": null,
            "order": null,
            "overflow": null,
            "overflow_x": null,
            "overflow_y": null,
            "padding": null,
            "right": null,
            "top": null,
            "visibility": null,
            "width": null
          }
        },
        "21d18dadeedb433c940384982c8f10c5": {
          "model_module": "@jupyter-widgets/controls",
          "model_name": "ProgressStyleModel",
          "model_module_version": "1.5.0",
          "state": {
            "_model_module": "@jupyter-widgets/controls",
            "_model_module_version": "1.5.0",
            "_model_name": "ProgressStyleModel",
            "_view_count": null,
            "_view_module": "@jupyter-widgets/base",
            "_view_module_version": "1.2.0",
            "_view_name": "StyleView",
            "bar_color": null,
            "description_width": ""
          }
        },
        "aa36efce6cff454e801efa7b6c9ffcf0": {
          "model_module": "@jupyter-widgets/base",
          "model_name": "LayoutModel",
          "model_module_version": "1.2.0",
          "state": {
            "_model_module": "@jupyter-widgets/base",
            "_model_module_version": "1.2.0",
            "_model_name": "LayoutModel",
            "_view_count": null,
            "_view_module": "@jupyter-widgets/base",
            "_view_module_version": "1.2.0",
            "_view_name": "LayoutView",
            "align_content": null,
            "align_items": null,
            "align_self": null,
            "border": null,
            "bottom": null,
            "display": null,
            "flex": null,
            "flex_flow": null,
            "grid_area": null,
            "grid_auto_columns": null,
            "grid_auto_flow": null,
            "grid_auto_rows": null,
            "grid_column": null,
            "grid_gap": null,
            "grid_row": null,
            "grid_template_areas": null,
            "grid_template_columns": null,
            "grid_template_rows": null,
            "height": null,
            "justify_content": null,
            "justify_items": null,
            "left": null,
            "margin": null,
            "max_height": null,
            "max_width": null,
            "min_height": null,
            "min_width": null,
            "object_fit": null,
            "object_position": null,
            "order": null,
            "overflow": null,
            "overflow_x": null,
            "overflow_y": null,
            "padding": null,
            "right": null,
            "top": null,
            "visibility": null,
            "width": null
          }
        },
        "9a63def25d2246b382d96b34345043e2": {
          "model_module": "@jupyter-widgets/controls",
          "model_name": "DescriptionStyleModel",
          "model_module_version": "1.5.0",
          "state": {
            "_model_module": "@jupyter-widgets/controls",
            "_model_module_version": "1.5.0",
            "_model_name": "DescriptionStyleModel",
            "_view_count": null,
            "_view_module": "@jupyter-widgets/base",
            "_view_module_version": "1.2.0",
            "_view_name": "StyleView",
            "description_width": ""
          }
        },
        "1d7357b07f03496c997fa1e6060961c8": {
          "model_module": "@jupyter-widgets/controls",
          "model_name": "HBoxModel",
          "model_module_version": "1.5.0",
          "state": {
            "_dom_classes": [],
            "_model_module": "@jupyter-widgets/controls",
            "_model_module_version": "1.5.0",
            "_model_name": "HBoxModel",
            "_view_count": null,
            "_view_module": "@jupyter-widgets/controls",
            "_view_module_version": "1.5.0",
            "_view_name": "HBoxView",
            "box_style": "",
            "children": [
              "IPY_MODEL_af1fbee57a89473f982dc716e7862e3b",
              "IPY_MODEL_b939c38c1e0440ef96b63218e545ca82",
              "IPY_MODEL_eaee5eae17534369b8dcf1b1e21ad64f"
            ],
            "layout": "IPY_MODEL_fc16323ecf0f4dcab9c709f698a38e83"
          }
        },
        "af1fbee57a89473f982dc716e7862e3b": {
          "model_module": "@jupyter-widgets/controls",
          "model_name": "HTMLModel",
          "model_module_version": "1.5.0",
          "state": {
            "_dom_classes": [],
            "_model_module": "@jupyter-widgets/controls",
            "_model_module_version": "1.5.0",
            "_model_name": "HTMLModel",
            "_view_count": null,
            "_view_module": "@jupyter-widgets/controls",
            "_view_module_version": "1.5.0",
            "_view_name": "HTMLView",
            "description": "",
            "description_tooltip": null,
            "layout": "IPY_MODEL_d37bec6560ec4303bd0acf30b56cfaed",
            "placeholder": "​",
            "style": "IPY_MODEL_25c3004211a84f6c895cd2d673806077",
            "value": "vocab.txt: "
          }
        },
        "b939c38c1e0440ef96b63218e545ca82": {
          "model_module": "@jupyter-widgets/controls",
          "model_name": "FloatProgressModel",
          "model_module_version": "1.5.0",
          "state": {
            "_dom_classes": [],
            "_model_module": "@jupyter-widgets/controls",
            "_model_module_version": "1.5.0",
            "_model_name": "FloatProgressModel",
            "_view_count": null,
            "_view_module": "@jupyter-widgets/controls",
            "_view_module_version": "1.5.0",
            "_view_name": "ProgressView",
            "bar_style": "success",
            "description": "",
            "description_tooltip": null,
            "layout": "IPY_MODEL_5239b2c2bb254ba68d74ae8499804312",
            "max": 1,
            "min": 0,
            "orientation": "horizontal",
            "style": "IPY_MODEL_0a325d85791f4785993e7dac5e3b18cc",
            "value": 1
          }
        },
        "eaee5eae17534369b8dcf1b1e21ad64f": {
          "model_module": "@jupyter-widgets/controls",
          "model_name": "HTMLModel",
          "model_module_version": "1.5.0",
          "state": {
            "_dom_classes": [],
            "_model_module": "@jupyter-widgets/controls",
            "_model_module_version": "1.5.0",
            "_model_name": "HTMLModel",
            "_view_count": null,
            "_view_module": "@jupyter-widgets/controls",
            "_view_module_version": "1.5.0",
            "_view_name": "HTMLView",
            "description": "",
            "description_tooltip": null,
            "layout": "IPY_MODEL_bf50fb7639f14925bd93f5fd1b980f80",
            "placeholder": "​",
            "style": "IPY_MODEL_30b53f228c934d38a7c0ebcbb13cccf9",
            "value": " 232k/? [00:00&lt;00:00, 19.6MB/s]"
          }
        },
        "fc16323ecf0f4dcab9c709f698a38e83": {
          "model_module": "@jupyter-widgets/base",
          "model_name": "LayoutModel",
          "model_module_version": "1.2.0",
          "state": {
            "_model_module": "@jupyter-widgets/base",
            "_model_module_version": "1.2.0",
            "_model_name": "LayoutModel",
            "_view_count": null,
            "_view_module": "@jupyter-widgets/base",
            "_view_module_version": "1.2.0",
            "_view_name": "LayoutView",
            "align_content": null,
            "align_items": null,
            "align_self": null,
            "border": null,
            "bottom": null,
            "display": null,
            "flex": null,
            "flex_flow": null,
            "grid_area": null,
            "grid_auto_columns": null,
            "grid_auto_flow": null,
            "grid_auto_rows": null,
            "grid_column": null,
            "grid_gap": null,
            "grid_row": null,
            "grid_template_areas": null,
            "grid_template_columns": null,
            "grid_template_rows": null,
            "height": null,
            "justify_content": null,
            "justify_items": null,
            "left": null,
            "margin": null,
            "max_height": null,
            "max_width": null,
            "min_height": null,
            "min_width": null,
            "object_fit": null,
            "object_position": null,
            "order": null,
            "overflow": null,
            "overflow_x": null,
            "overflow_y": null,
            "padding": null,
            "right": null,
            "top": null,
            "visibility": null,
            "width": null
          }
        },
        "d37bec6560ec4303bd0acf30b56cfaed": {
          "model_module": "@jupyter-widgets/base",
          "model_name": "LayoutModel",
          "model_module_version": "1.2.0",
          "state": {
            "_model_module": "@jupyter-widgets/base",
            "_model_module_version": "1.2.0",
            "_model_name": "LayoutModel",
            "_view_count": null,
            "_view_module": "@jupyter-widgets/base",
            "_view_module_version": "1.2.0",
            "_view_name": "LayoutView",
            "align_content": null,
            "align_items": null,
            "align_self": null,
            "border": null,
            "bottom": null,
            "display": null,
            "flex": null,
            "flex_flow": null,
            "grid_area": null,
            "grid_auto_columns": null,
            "grid_auto_flow": null,
            "grid_auto_rows": null,
            "grid_column": null,
            "grid_gap": null,
            "grid_row": null,
            "grid_template_areas": null,
            "grid_template_columns": null,
            "grid_template_rows": null,
            "height": null,
            "justify_content": null,
            "justify_items": null,
            "left": null,
            "margin": null,
            "max_height": null,
            "max_width": null,
            "min_height": null,
            "min_width": null,
            "object_fit": null,
            "object_position": null,
            "order": null,
            "overflow": null,
            "overflow_x": null,
            "overflow_y": null,
            "padding": null,
            "right": null,
            "top": null,
            "visibility": null,
            "width": null
          }
        },
        "25c3004211a84f6c895cd2d673806077": {
          "model_module": "@jupyter-widgets/controls",
          "model_name": "DescriptionStyleModel",
          "model_module_version": "1.5.0",
          "state": {
            "_model_module": "@jupyter-widgets/controls",
            "_model_module_version": "1.5.0",
            "_model_name": "DescriptionStyleModel",
            "_view_count": null,
            "_view_module": "@jupyter-widgets/base",
            "_view_module_version": "1.2.0",
            "_view_name": "StyleView",
            "description_width": ""
          }
        },
        "5239b2c2bb254ba68d74ae8499804312": {
          "model_module": "@jupyter-widgets/base",
          "model_name": "LayoutModel",
          "model_module_version": "1.2.0",
          "state": {
            "_model_module": "@jupyter-widgets/base",
            "_model_module_version": "1.2.0",
            "_model_name": "LayoutModel",
            "_view_count": null,
            "_view_module": "@jupyter-widgets/base",
            "_view_module_version": "1.2.0",
            "_view_name": "LayoutView",
            "align_content": null,
            "align_items": null,
            "align_self": null,
            "border": null,
            "bottom": null,
            "display": null,
            "flex": null,
            "flex_flow": null,
            "grid_area": null,
            "grid_auto_columns": null,
            "grid_auto_flow": null,
            "grid_auto_rows": null,
            "grid_column": null,
            "grid_gap": null,
            "grid_row": null,
            "grid_template_areas": null,
            "grid_template_columns": null,
            "grid_template_rows": null,
            "height": null,
            "justify_content": null,
            "justify_items": null,
            "left": null,
            "margin": null,
            "max_height": null,
            "max_width": null,
            "min_height": null,
            "min_width": null,
            "object_fit": null,
            "object_position": null,
            "order": null,
            "overflow": null,
            "overflow_x": null,
            "overflow_y": null,
            "padding": null,
            "right": null,
            "top": null,
            "visibility": null,
            "width": "20px"
          }
        },
        "0a325d85791f4785993e7dac5e3b18cc": {
          "model_module": "@jupyter-widgets/controls",
          "model_name": "ProgressStyleModel",
          "model_module_version": "1.5.0",
          "state": {
            "_model_module": "@jupyter-widgets/controls",
            "_model_module_version": "1.5.0",
            "_model_name": "ProgressStyleModel",
            "_view_count": null,
            "_view_module": "@jupyter-widgets/base",
            "_view_module_version": "1.2.0",
            "_view_name": "StyleView",
            "bar_color": null,
            "description_width": ""
          }
        },
        "bf50fb7639f14925bd93f5fd1b980f80": {
          "model_module": "@jupyter-widgets/base",
          "model_name": "LayoutModel",
          "model_module_version": "1.2.0",
          "state": {
            "_model_module": "@jupyter-widgets/base",
            "_model_module_version": "1.2.0",
            "_model_name": "LayoutModel",
            "_view_count": null,
            "_view_module": "@jupyter-widgets/base",
            "_view_module_version": "1.2.0",
            "_view_name": "LayoutView",
            "align_content": null,
            "align_items": null,
            "align_self": null,
            "border": null,
            "bottom": null,
            "display": null,
            "flex": null,
            "flex_flow": null,
            "grid_area": null,
            "grid_auto_columns": null,
            "grid_auto_flow": null,
            "grid_auto_rows": null,
            "grid_column": null,
            "grid_gap": null,
            "grid_row": null,
            "grid_template_areas": null,
            "grid_template_columns": null,
            "grid_template_rows": null,
            "height": null,
            "justify_content": null,
            "justify_items": null,
            "left": null,
            "margin": null,
            "max_height": null,
            "max_width": null,
            "min_height": null,
            "min_width": null,
            "object_fit": null,
            "object_position": null,
            "order": null,
            "overflow": null,
            "overflow_x": null,
            "overflow_y": null,
            "padding": null,
            "right": null,
            "top": null,
            "visibility": null,
            "width": null
          }
        },
        "30b53f228c934d38a7c0ebcbb13cccf9": {
          "model_module": "@jupyter-widgets/controls",
          "model_name": "DescriptionStyleModel",
          "model_module_version": "1.5.0",
          "state": {
            "_model_module": "@jupyter-widgets/controls",
            "_model_module_version": "1.5.0",
            "_model_name": "DescriptionStyleModel",
            "_view_count": null,
            "_view_module": "@jupyter-widgets/base",
            "_view_module_version": "1.2.0",
            "_view_name": "StyleView",
            "description_width": ""
          }
        },
        "5cc3c7e70b73460a8f7d00c05a915a26": {
          "model_module": "@jupyter-widgets/controls",
          "model_name": "HBoxModel",
          "model_module_version": "1.5.0",
          "state": {
            "_dom_classes": [],
            "_model_module": "@jupyter-widgets/controls",
            "_model_module_version": "1.5.0",
            "_model_name": "HBoxModel",
            "_view_count": null,
            "_view_module": "@jupyter-widgets/controls",
            "_view_module_version": "1.5.0",
            "_view_name": "HBoxView",
            "box_style": "",
            "children": [
              "IPY_MODEL_bd00cc78ca3d492993c57a3dd452f8b6",
              "IPY_MODEL_a6ce68c624c448a2b1cdca83f6f9a81a",
              "IPY_MODEL_460f501247d34cf888c2d19ad1e1498a"
            ],
            "layout": "IPY_MODEL_5f80dece44604f6bbfaae53e72056d72"
          }
        },
        "bd00cc78ca3d492993c57a3dd452f8b6": {
          "model_module": "@jupyter-widgets/controls",
          "model_name": "HTMLModel",
          "model_module_version": "1.5.0",
          "state": {
            "_dom_classes": [],
            "_model_module": "@jupyter-widgets/controls",
            "_model_module_version": "1.5.0",
            "_model_name": "HTMLModel",
            "_view_count": null,
            "_view_module": "@jupyter-widgets/controls",
            "_view_module_version": "1.5.0",
            "_view_name": "HTMLView",
            "description": "",
            "description_tooltip": null,
            "layout": "IPY_MODEL_a4fbca67263143339eb661fa7d348f57",
            "placeholder": "​",
            "style": "IPY_MODEL_95f0e4cede704fb38f88c50aba7bbc3f",
            "value": "special_tokens_map.json: 100%"
          }
        },
        "a6ce68c624c448a2b1cdca83f6f9a81a": {
          "model_module": "@jupyter-widgets/controls",
          "model_name": "FloatProgressModel",
          "model_module_version": "1.5.0",
          "state": {
            "_dom_classes": [],
            "_model_module": "@jupyter-widgets/controls",
            "_model_module_version": "1.5.0",
            "_model_name": "FloatProgressModel",
            "_view_count": null,
            "_view_module": "@jupyter-widgets/controls",
            "_view_module_version": "1.5.0",
            "_view_name": "ProgressView",
            "bar_style": "success",
            "description": "",
            "description_tooltip": null,
            "layout": "IPY_MODEL_d62bf117c3094d1e919288145ac7d243",
            "max": 112,
            "min": 0,
            "orientation": "horizontal",
            "style": "IPY_MODEL_f82c12f0fbbd43ceb871febc076d072b",
            "value": 112
          }
        },
        "460f501247d34cf888c2d19ad1e1498a": {
          "model_module": "@jupyter-widgets/controls",
          "model_name": "HTMLModel",
          "model_module_version": "1.5.0",
          "state": {
            "_dom_classes": [],
            "_model_module": "@jupyter-widgets/controls",
            "_model_module_version": "1.5.0",
            "_model_name": "HTMLModel",
            "_view_count": null,
            "_view_module": "@jupyter-widgets/controls",
            "_view_module_version": "1.5.0",
            "_view_name": "HTMLView",
            "description": "",
            "description_tooltip": null,
            "layout": "IPY_MODEL_6ef67d8dfeda47719ffd73e5495ce327",
            "placeholder": "​",
            "style": "IPY_MODEL_f0199e4d3f3e47aa9276dea4153172f5",
            "value": " 112/112 [00:00&lt;00:00, 13.7kB/s]"
          }
        },
        "5f80dece44604f6bbfaae53e72056d72": {
          "model_module": "@jupyter-widgets/base",
          "model_name": "LayoutModel",
          "model_module_version": "1.2.0",
          "state": {
            "_model_module": "@jupyter-widgets/base",
            "_model_module_version": "1.2.0",
            "_model_name": "LayoutModel",
            "_view_count": null,
            "_view_module": "@jupyter-widgets/base",
            "_view_module_version": "1.2.0",
            "_view_name": "LayoutView",
            "align_content": null,
            "align_items": null,
            "align_self": null,
            "border": null,
            "bottom": null,
            "display": null,
            "flex": null,
            "flex_flow": null,
            "grid_area": null,
            "grid_auto_columns": null,
            "grid_auto_flow": null,
            "grid_auto_rows": null,
            "grid_column": null,
            "grid_gap": null,
            "grid_row": null,
            "grid_template_areas": null,
            "grid_template_columns": null,
            "grid_template_rows": null,
            "height": null,
            "justify_content": null,
            "justify_items": null,
            "left": null,
            "margin": null,
            "max_height": null,
            "max_width": null,
            "min_height": null,
            "min_width": null,
            "object_fit": null,
            "object_position": null,
            "order": null,
            "overflow": null,
            "overflow_x": null,
            "overflow_y": null,
            "padding": null,
            "right": null,
            "top": null,
            "visibility": null,
            "width": null
          }
        },
        "a4fbca67263143339eb661fa7d348f57": {
          "model_module": "@jupyter-widgets/base",
          "model_name": "LayoutModel",
          "model_module_version": "1.2.0",
          "state": {
            "_model_module": "@jupyter-widgets/base",
            "_model_module_version": "1.2.0",
            "_model_name": "LayoutModel",
            "_view_count": null,
            "_view_module": "@jupyter-widgets/base",
            "_view_module_version": "1.2.0",
            "_view_name": "LayoutView",
            "align_content": null,
            "align_items": null,
            "align_self": null,
            "border": null,
            "bottom": null,
            "display": null,
            "flex": null,
            "flex_flow": null,
            "grid_area": null,
            "grid_auto_columns": null,
            "grid_auto_flow": null,
            "grid_auto_rows": null,
            "grid_column": null,
            "grid_gap": null,
            "grid_row": null,
            "grid_template_areas": null,
            "grid_template_columns": null,
            "grid_template_rows": null,
            "height": null,
            "justify_content": null,
            "justify_items": null,
            "left": null,
            "margin": null,
            "max_height": null,
            "max_width": null,
            "min_height": null,
            "min_width": null,
            "object_fit": null,
            "object_position": null,
            "order": null,
            "overflow": null,
            "overflow_x": null,
            "overflow_y": null,
            "padding": null,
            "right": null,
            "top": null,
            "visibility": null,
            "width": null
          }
        },
        "95f0e4cede704fb38f88c50aba7bbc3f": {
          "model_module": "@jupyter-widgets/controls",
          "model_name": "DescriptionStyleModel",
          "model_module_version": "1.5.0",
          "state": {
            "_model_module": "@jupyter-widgets/controls",
            "_model_module_version": "1.5.0",
            "_model_name": "DescriptionStyleModel",
            "_view_count": null,
            "_view_module": "@jupyter-widgets/base",
            "_view_module_version": "1.2.0",
            "_view_name": "StyleView",
            "description_width": ""
          }
        },
        "d62bf117c3094d1e919288145ac7d243": {
          "model_module": "@jupyter-widgets/base",
          "model_name": "LayoutModel",
          "model_module_version": "1.2.0",
          "state": {
            "_model_module": "@jupyter-widgets/base",
            "_model_module_version": "1.2.0",
            "_model_name": "LayoutModel",
            "_view_count": null,
            "_view_module": "@jupyter-widgets/base",
            "_view_module_version": "1.2.0",
            "_view_name": "LayoutView",
            "align_content": null,
            "align_items": null,
            "align_self": null,
            "border": null,
            "bottom": null,
            "display": null,
            "flex": null,
            "flex_flow": null,
            "grid_area": null,
            "grid_auto_columns": null,
            "grid_auto_flow": null,
            "grid_auto_rows": null,
            "grid_column": null,
            "grid_gap": null,
            "grid_row": null,
            "grid_template_areas": null,
            "grid_template_columns": null,
            "grid_template_rows": null,
            "height": null,
            "justify_content": null,
            "justify_items": null,
            "left": null,
            "margin": null,
            "max_height": null,
            "max_width": null,
            "min_height": null,
            "min_width": null,
            "object_fit": null,
            "object_position": null,
            "order": null,
            "overflow": null,
            "overflow_x": null,
            "overflow_y": null,
            "padding": null,
            "right": null,
            "top": null,
            "visibility": null,
            "width": null
          }
        },
        "f82c12f0fbbd43ceb871febc076d072b": {
          "model_module": "@jupyter-widgets/controls",
          "model_name": "ProgressStyleModel",
          "model_module_version": "1.5.0",
          "state": {
            "_model_module": "@jupyter-widgets/controls",
            "_model_module_version": "1.5.0",
            "_model_name": "ProgressStyleModel",
            "_view_count": null,
            "_view_module": "@jupyter-widgets/base",
            "_view_module_version": "1.2.0",
            "_view_name": "StyleView",
            "bar_color": null,
            "description_width": ""
          }
        },
        "6ef67d8dfeda47719ffd73e5495ce327": {
          "model_module": "@jupyter-widgets/base",
          "model_name": "LayoutModel",
          "model_module_version": "1.2.0",
          "state": {
            "_model_module": "@jupyter-widgets/base",
            "_model_module_version": "1.2.0",
            "_model_name": "LayoutModel",
            "_view_count": null,
            "_view_module": "@jupyter-widgets/base",
            "_view_module_version": "1.2.0",
            "_view_name": "LayoutView",
            "align_content": null,
            "align_items": null,
            "align_self": null,
            "border": null,
            "bottom": null,
            "display": null,
            "flex": null,
            "flex_flow": null,
            "grid_area": null,
            "grid_auto_columns": null,
            "grid_auto_flow": null,
            "grid_auto_rows": null,
            "grid_column": null,
            "grid_gap": null,
            "grid_row": null,
            "grid_template_areas": null,
            "grid_template_columns": null,
            "grid_template_rows": null,
            "height": null,
            "justify_content": null,
            "justify_items": null,
            "left": null,
            "margin": null,
            "max_height": null,
            "max_width": null,
            "min_height": null,
            "min_width": null,
            "object_fit": null,
            "object_position": null,
            "order": null,
            "overflow": null,
            "overflow_x": null,
            "overflow_y": null,
            "padding": null,
            "right": null,
            "top": null,
            "visibility": null,
            "width": null
          }
        },
        "f0199e4d3f3e47aa9276dea4153172f5": {
          "model_module": "@jupyter-widgets/controls",
          "model_name": "DescriptionStyleModel",
          "model_module_version": "1.5.0",
          "state": {
            "_model_module": "@jupyter-widgets/controls",
            "_model_module_version": "1.5.0",
            "_model_name": "DescriptionStyleModel",
            "_view_count": null,
            "_view_module": "@jupyter-widgets/base",
            "_view_module_version": "1.2.0",
            "_view_name": "StyleView",
            "description_width": ""
          }
        },
        "fe5acbdadff04a37863df23e579d6b99": {
          "model_module": "@jupyter-widgets/controls",
          "model_name": "HBoxModel",
          "model_module_version": "1.5.0",
          "state": {
            "_dom_classes": [],
            "_model_module": "@jupyter-widgets/controls",
            "_model_module_version": "1.5.0",
            "_model_name": "HBoxModel",
            "_view_count": null,
            "_view_module": "@jupyter-widgets/controls",
            "_view_module_version": "1.5.0",
            "_view_name": "HBoxView",
            "box_style": "",
            "children": [
              "IPY_MODEL_2c6306857ef54244a246ec28dfb2dde8",
              "IPY_MODEL_f405353c6327402f88ade80b0368a822",
              "IPY_MODEL_ba8062f57d8e4cd3ad8cdee84d2f150a"
            ],
            "layout": "IPY_MODEL_d9d30f4b3ad4428796fecb416aa57ac4"
          }
        },
        "2c6306857ef54244a246ec28dfb2dde8": {
          "model_module": "@jupyter-widgets/controls",
          "model_name": "HTMLModel",
          "model_module_version": "1.5.0",
          "state": {
            "_dom_classes": [],
            "_model_module": "@jupyter-widgets/controls",
            "_model_module_version": "1.5.0",
            "_model_name": "HTMLModel",
            "_view_count": null,
            "_view_module": "@jupyter-widgets/controls",
            "_view_module_version": "1.5.0",
            "_view_name": "HTMLView",
            "description": "",
            "description_tooltip": null,
            "layout": "IPY_MODEL_f328a4e436244721a94b0a9508321cc2",
            "placeholder": "​",
            "style": "IPY_MODEL_bce0d0da0a494b868511e70ed94bb634",
            "value": "pytorch_model.bin: 100%"
          }
        },
        "f405353c6327402f88ade80b0368a822": {
          "model_module": "@jupyter-widgets/controls",
          "model_name": "FloatProgressModel",
          "model_module_version": "1.5.0",
          "state": {
            "_dom_classes": [],
            "_model_module": "@jupyter-widgets/controls",
            "_model_module_version": "1.5.0",
            "_model_name": "FloatProgressModel",
            "_view_count": null,
            "_view_module": "@jupyter-widgets/controls",
            "_view_module_version": "1.5.0",
            "_view_name": "ProgressView",
            "bar_style": "success",
            "description": "",
            "description_tooltip": null,
            "layout": "IPY_MODEL_916eeb19913f40ad8e60981758a1fc55",
            "max": 437992753,
            "min": 0,
            "orientation": "horizontal",
            "style": "IPY_MODEL_dd91410d9a1c4f848e21f32586927489",
            "value": 437992753
          }
        },
        "ba8062f57d8e4cd3ad8cdee84d2f150a": {
          "model_module": "@jupyter-widgets/controls",
          "model_name": "HTMLModel",
          "model_module_version": "1.5.0",
          "state": {
            "_dom_classes": [],
            "_model_module": "@jupyter-widgets/controls",
            "_model_module_version": "1.5.0",
            "_model_name": "HTMLModel",
            "_view_count": null,
            "_view_module": "@jupyter-widgets/controls",
            "_view_module_version": "1.5.0",
            "_view_name": "HTMLView",
            "description": "",
            "description_tooltip": null,
            "layout": "IPY_MODEL_08ff30945b614fd38f6cd9c8873f350f",
            "placeholder": "​",
            "style": "IPY_MODEL_72c83c505cf748c885b7aab02d48b0db",
            "value": " 438M/438M [00:01&lt;00:00, 258MB/s]"
          }
        },
        "d9d30f4b3ad4428796fecb416aa57ac4": {
          "model_module": "@jupyter-widgets/base",
          "model_name": "LayoutModel",
          "model_module_version": "1.2.0",
          "state": {
            "_model_module": "@jupyter-widgets/base",
            "_model_module_version": "1.2.0",
            "_model_name": "LayoutModel",
            "_view_count": null,
            "_view_module": "@jupyter-widgets/base",
            "_view_module_version": "1.2.0",
            "_view_name": "LayoutView",
            "align_content": null,
            "align_items": null,
            "align_self": null,
            "border": null,
            "bottom": null,
            "display": null,
            "flex": null,
            "flex_flow": null,
            "grid_area": null,
            "grid_auto_columns": null,
            "grid_auto_flow": null,
            "grid_auto_rows": null,
            "grid_column": null,
            "grid_gap": null,
            "grid_row": null,
            "grid_template_areas": null,
            "grid_template_columns": null,
            "grid_template_rows": null,
            "height": null,
            "justify_content": null,
            "justify_items": null,
            "left": null,
            "margin": null,
            "max_height": null,
            "max_width": null,
            "min_height": null,
            "min_width": null,
            "object_fit": null,
            "object_position": null,
            "order": null,
            "overflow": null,
            "overflow_x": null,
            "overflow_y": null,
            "padding": null,
            "right": null,
            "top": null,
            "visibility": null,
            "width": null
          }
        },
        "f328a4e436244721a94b0a9508321cc2": {
          "model_module": "@jupyter-widgets/base",
          "model_name": "LayoutModel",
          "model_module_version": "1.2.0",
          "state": {
            "_model_module": "@jupyter-widgets/base",
            "_model_module_version": "1.2.0",
            "_model_name": "LayoutModel",
            "_view_count": null,
            "_view_module": "@jupyter-widgets/base",
            "_view_module_version": "1.2.0",
            "_view_name": "LayoutView",
            "align_content": null,
            "align_items": null,
            "align_self": null,
            "border": null,
            "bottom": null,
            "display": null,
            "flex": null,
            "flex_flow": null,
            "grid_area": null,
            "grid_auto_columns": null,
            "grid_auto_flow": null,
            "grid_auto_rows": null,
            "grid_column": null,
            "grid_gap": null,
            "grid_row": null,
            "grid_template_areas": null,
            "grid_template_columns": null,
            "grid_template_rows": null,
            "height": null,
            "justify_content": null,
            "justify_items": null,
            "left": null,
            "margin": null,
            "max_height": null,
            "max_width": null,
            "min_height": null,
            "min_width": null,
            "object_fit": null,
            "object_position": null,
            "order": null,
            "overflow": null,
            "overflow_x": null,
            "overflow_y": null,
            "padding": null,
            "right": null,
            "top": null,
            "visibility": null,
            "width": null
          }
        },
        "bce0d0da0a494b868511e70ed94bb634": {
          "model_module": "@jupyter-widgets/controls",
          "model_name": "DescriptionStyleModel",
          "model_module_version": "1.5.0",
          "state": {
            "_model_module": "@jupyter-widgets/controls",
            "_model_module_version": "1.5.0",
            "_model_name": "DescriptionStyleModel",
            "_view_count": null,
            "_view_module": "@jupyter-widgets/base",
            "_view_module_version": "1.2.0",
            "_view_name": "StyleView",
            "description_width": ""
          }
        },
        "916eeb19913f40ad8e60981758a1fc55": {
          "model_module": "@jupyter-widgets/base",
          "model_name": "LayoutModel",
          "model_module_version": "1.2.0",
          "state": {
            "_model_module": "@jupyter-widgets/base",
            "_model_module_version": "1.2.0",
            "_model_name": "LayoutModel",
            "_view_count": null,
            "_view_module": "@jupyter-widgets/base",
            "_view_module_version": "1.2.0",
            "_view_name": "LayoutView",
            "align_content": null,
            "align_items": null,
            "align_self": null,
            "border": null,
            "bottom": null,
            "display": null,
            "flex": null,
            "flex_flow": null,
            "grid_area": null,
            "grid_auto_columns": null,
            "grid_auto_flow": null,
            "grid_auto_rows": null,
            "grid_column": null,
            "grid_gap": null,
            "grid_row": null,
            "grid_template_areas": null,
            "grid_template_columns": null,
            "grid_template_rows": null,
            "height": null,
            "justify_content": null,
            "justify_items": null,
            "left": null,
            "margin": null,
            "max_height": null,
            "max_width": null,
            "min_height": null,
            "min_width": null,
            "object_fit": null,
            "object_position": null,
            "order": null,
            "overflow": null,
            "overflow_x": null,
            "overflow_y": null,
            "padding": null,
            "right": null,
            "top": null,
            "visibility": null,
            "width": null
          }
        },
        "dd91410d9a1c4f848e21f32586927489": {
          "model_module": "@jupyter-widgets/controls",
          "model_name": "ProgressStyleModel",
          "model_module_version": "1.5.0",
          "state": {
            "_model_module": "@jupyter-widgets/controls",
            "_model_module_version": "1.5.0",
            "_model_name": "ProgressStyleModel",
            "_view_count": null,
            "_view_module": "@jupyter-widgets/base",
            "_view_module_version": "1.2.0",
            "_view_name": "StyleView",
            "bar_color": null,
            "description_width": ""
          }
        },
        "08ff30945b614fd38f6cd9c8873f350f": {
          "model_module": "@jupyter-widgets/base",
          "model_name": "LayoutModel",
          "model_module_version": "1.2.0",
          "state": {
            "_model_module": "@jupyter-widgets/base",
            "_model_module_version": "1.2.0",
            "_model_name": "LayoutModel",
            "_view_count": null,
            "_view_module": "@jupyter-widgets/base",
            "_view_module_version": "1.2.0",
            "_view_name": "LayoutView",
            "align_content": null,
            "align_items": null,
            "align_self": null,
            "border": null,
            "bottom": null,
            "display": null,
            "flex": null,
            "flex_flow": null,
            "grid_area": null,
            "grid_auto_columns": null,
            "grid_auto_flow": null,
            "grid_auto_rows": null,
            "grid_column": null,
            "grid_gap": null,
            "grid_row": null,
            "grid_template_areas": null,
            "grid_template_columns": null,
            "grid_template_rows": null,
            "height": null,
            "justify_content": null,
            "justify_items": null,
            "left": null,
            "margin": null,
            "max_height": null,
            "max_width": null,
            "min_height": null,
            "min_width": null,
            "object_fit": null,
            "object_position": null,
            "order": null,
            "overflow": null,
            "overflow_x": null,
            "overflow_y": null,
            "padding": null,
            "right": null,
            "top": null,
            "visibility": null,
            "width": null
          }
        },
        "72c83c505cf748c885b7aab02d48b0db": {
          "model_module": "@jupyter-widgets/controls",
          "model_name": "DescriptionStyleModel",
          "model_module_version": "1.5.0",
          "state": {
            "_model_module": "@jupyter-widgets/controls",
            "_model_module_version": "1.5.0",
            "_model_name": "DescriptionStyleModel",
            "_view_count": null,
            "_view_module": "@jupyter-widgets/base",
            "_view_module_version": "1.2.0",
            "_view_name": "StyleView",
            "description_width": ""
          }
        }
      }
    }
  },
  "cells": [
    {
      "cell_type": "markdown",
      "source": [
        "# Financial Question Answering With FinBERT"
      ],
      "metadata": {
        "id": "r5FNb6MBVNu1"
      }
    },
    {
      "cell_type": "markdown",
      "source": [
        "# Importing Libraries"
      ],
      "metadata": {
        "id": "RAR7atPIVJq4"
      }
    },
    {
      "cell_type": "markdown",
      "source": [
        "Installs and imports all necessary libraries for data handling (Pandas, NumPy), NLP (NLTK + punkt, rank_bm25), and model training (PyTorch, Hugging Face Transformers)."
      ],
      "metadata": {
        "id": "UxIAuZ814AwH"
      }
    },
    {
      "cell_type": "code",
      "source": [
        "# Standard Libraries\n",
        "import os\n",
        "import json\n",
        "import pickle\n",
        "import random\n",
        "from collections import Counter\n",
        "from statistics import mean\n",
        "\n",
        "# Data Handling\n",
        "import pandas as pd\n",
        "import numpy as np\n",
        "\n",
        "# Progress Bar\n",
        "from tqdm import tqdm\n",
        "\n",
        "# NLP & Transformers\n",
        "import nltk\n",
        "from nltk.tokenize import word_tokenize\n",
        "from torch.optim import AdamW  # <- use this instead of transformers.AdamW\n",
        "from transformers import (\n",
        "    BertTokenizer,\n",
        "    BertForSequenceClassification,\n",
        "    BertConfig,\n",
        "    get_linear_schedule_with_warmup\n",
        ")\n",
        "\n",
        "\n",
        "# PyTorch\n",
        "import torch\n",
        "from torch.nn import CrossEntropyLoss\n",
        "from torch.utils.data import TensorDataset, DataLoader, RandomSampler, SequentialSampler\n",
        "from torch.nn.functional import softmax\n",
        "\n",
        "# Download NLTK tokenizer model\n",
        "nltk.download('punkt')"
      ],
      "metadata": {
        "colab": {
          "base_uri": "https://localhost:8080/"
        },
        "id": "v5IgEHFRCza9",
        "outputId": "913595ba-3950-4449-ab84-3307343529c3"
      },
      "execution_count": null,
      "outputs": [
        {
          "output_type": "stream",
          "name": "stderr",
          "text": [
            "[nltk_data] Downloading package punkt to /root/nltk_data...\n",
            "[nltk_data]   Unzipping tokenizers/punkt.zip.\n"
          ]
        },
        {
          "output_type": "execute_result",
          "data": {
            "text/plain": [
              "True"
            ]
          },
          "metadata": {},
          "execution_count": 1
        }
      ]
    },
    {
      "cell_type": "code",
      "source": [
        "from google.colab import drive\n",
        "import os\n",
        "\n",
        "# Mount Google Drive\n",
        "drive.mount('/content/drive')\n",
        "\n",
        "# Define file paths to dataset stored in Google Drive\n",
        "data_dir = '/content/drive/MyDrive/FIQA/Data'\n",
        "\n",
        "file_answers = os.path.join(data_dir, 'FiQA_train_doc_final.tsv')\n",
        "file_questions = os.path.join(data_dir, 'FiQA_train_question_final.tsv')\n",
        "file_qid_docid = os.path.join(data_dir, 'FiQA_train_question_doc_final.tsv')"
      ],
      "metadata": {
        "colab": {
          "base_uri": "https://localhost:8080/"
        },
        "id": "ptPVUlYg-2tC",
        "outputId": "fe5425d4-b3c3-4bbb-def6-5de9f3a8eb9b"
      },
      "execution_count": null,
      "outputs": [
        {
          "output_type": "stream",
          "name": "stdout",
          "text": [
            "Mounted at /content/drive\n"
          ]
        }
      ]
    },
    {
      "cell_type": "code",
      "source": [
        "# Load files\n",
        "documents_df = pd.read_csv(file_answers, sep='\\t', names=['docid', 'doc'])\n",
        "questions_df = pd.read_csv(file_questions, sep='\\t', names=['qid', 'question'])\n",
        "qid_docid_df = pd.read_csv(file_qid_docid, sep='\\t', names=['qid', 'docid'])"
      ],
      "metadata": {
        "id": "Gv9g29L9-4PW"
      },
      "execution_count": null,
      "outputs": []
    },
    {
      "cell_type": "code",
      "source": [
        "# === 1. Unique Questions ===\n",
        "num_questions = questions_df['qid'].nunique()\n",
        "\n",
        "# === 2. Unique Documents (Answer Passages) ===\n",
        "num_documents = documents_df['docid'].nunique()\n",
        "\n",
        "# === 3. Total Labeled Question–Document Pairs ===\n",
        "num_pairs = len(qid_docid_df)\n",
        "\n",
        "# === 4. Number of Relevant vs Irrelevant Pairs ===\n",
        "# If you only have relevant pairs (like FiQA Task 2), all pairs are relevant\n",
        "# If there's a 'label' column with 1s and 0s, count them\n",
        "\n",
        "if 'label' in qid_docid_df.columns:\n",
        "    num_relevant = (qid_docid_df['label'] == 1).sum()\n",
        "    num_irrelevant = (qid_docid_df['label'] == 0).sum()\n",
        "else:\n",
        "    num_relevant = num_pairs\n",
        "    num_irrelevant = 0\n",
        "\n",
        "# === 5. Print the Summary ===\n",
        "print(\"Dataset Statistics\")\n",
        "print(f\"  - Unique Questions             : {num_questions}\")\n",
        "print(f\"  - Unique Documents             : {num_documents}\")\n",
        "print(f\"  - Total Question–Doc Pairs     : {num_pairs}\")\n",
        "\n"
      ],
      "metadata": {
        "colab": {
          "base_uri": "https://localhost:8080/"
        },
        "id": "mWymnWuozUPT",
        "outputId": "6d55797f-5c13-4e6b-948d-170348314a1b"
      },
      "execution_count": null,
      "outputs": [
        {
          "output_type": "stream",
          "name": "stdout",
          "text": [
            "Dataset Statistics\n",
            "  - Unique Questions             : 6649\n",
            "  - Unique Documents             : 57599\n",
            "  - Total Question–Doc Pairs     : 17111\n"
          ]
        }
      ]
    },
    {
      "cell_type": "markdown",
      "source": [
        "# Loading the Dataset"
      ],
      "metadata": {
        "id": "vzRqTMxZVw3a"
      }
    },
    {
      "cell_type": "markdown",
      "source": [
        "Spliting the Dataset in Train, Validate, Test sets"
      ],
      "metadata": {
        "id": "NFLKNk68VgXR"
      }
    },
    {
      "cell_type": "code",
      "source": [
        "# Load the sets\n",
        "import pickle\n",
        "\n",
        "def load_pickle(path):\n",
        "    with open(path, 'rb') as f:\n",
        "        return pickle.load(f)\n",
        "\n",
        "train_set = load_pickle('/content/drive/MyDrive/FIQA/Data/train_set_50.pickle')\n",
        "valid_set = load_pickle('/content/drive/MyDrive/FIQA/Data/valid_set_50.pickle')\n",
        "test_set = load_pickle('/content/drive/MyDrive/FIQA/Data/test_set_50.pickle')\n",
        "\n",
        "# Count\n",
        "n_train = len(train_set)\n",
        "n_valid = len(valid_set)\n",
        "n_test = len(test_set)\n",
        "total = n_train + n_valid + n_test\n",
        "\n",
        "# Print actual split breakdown\n",
        "print(\"Dataset Split Statistics:\")\n",
        "print(f\"  - Train : {n_train} samples ({n_train / total * 100:.2f}%)\")\n",
        "print(f\"  - Valid : {n_valid} samples ({n_valid / total * 100:.2f}%)\")\n",
        "print(f\"  - Test  : {n_test} samples ({n_test / total * 100:.2f}%)\")\n",
        "print(f\"  - Total : {total} samples\")\n"
      ],
      "metadata": {
        "colab": {
          "base_uri": "https://localhost:8080/"
        },
        "id": "fo5P0Cb20ArK",
        "outputId": "a31af184-2b44-4517-9364-74afbfd78021"
      },
      "execution_count": null,
      "outputs": [
        {
          "output_type": "stream",
          "name": "stdout",
          "text": [
            "Dataset Split Statistics:\n",
            "  - Train : 5676 samples (85.48%)\n",
            "  - Valid : 631 samples (9.50%)\n",
            "  - Test  : 333 samples (5.02%)\n",
            "  - Total : 6640 samples\n"
          ]
        }
      ]
    },
    {
      "cell_type": "code",
      "source": [
        "print(\"Number of answers (documents): {}\".format(len(documents_df)))\n",
        "print(\"Number of questions: {}\".format(len(questions_df)))\n",
        "print(\"Number of QA pairs: {}\".format(len(qid_docid_df)))"
      ],
      "metadata": {
        "colab": {
          "base_uri": "https://localhost:8080/"
        },
        "id": "UJc9ezd--80a",
        "outputId": "f4c0968d-7ab9-4222-ad86-a911a90efa04"
      },
      "execution_count": null,
      "outputs": [
        {
          "output_type": "stream",
          "name": "stdout",
          "text": [
            "Number of answers (documents): 57639\n",
            "Number of questions: 6649\n",
            "Number of QA pairs: 17111\n"
          ]
        }
      ]
    },
    {
      "cell_type": "code",
      "execution_count": null,
      "metadata": {
        "colab": {
          "base_uri": "https://localhost:8080/"
        },
        "id": "ykN4mLOTW6tX",
        "outputId": "46553b6d-3a7a-4a2f-99ee-6ce4e28b0c2b"
      },
      "outputs": [
        {
          "output_type": "stream",
          "name": "stdout",
          "text": [
            "Number of answers after cleaning: 57639\n",
            "Number of QA pairs after cleaning: 17111\n"
          ]
        }
      ],
      "source": [
        "# Identify empty documents\n",
        "empty_docs, empty_ids = get_empty_docs(documents_df)\n",
        "\n",
        "# Remove empty answer rows from the document set\n",
        "documents_cleaned_df = documents_df.drop(empty_ids)\n",
        "\n",
        "# Remove QA pairs that point to empty documents\n",
        "qid_docid_df = qid_docid_df[~qid_docid_df['docid'].isin(empty_docs)]\n",
        "\n",
        "# Lowercase document text only\n",
        "documents_cleaned_df['doc'] = documents_cleaned_df['doc'].str.lower()\n",
        "\n",
        "# Lowercase question text only\n",
        "questions_df['question'] = questions_df['question'].str.lower()\n",
        "\n",
        "# Print stats after cleaning\n",
        "print(\"Number of answers after cleaning: {}\".format(len(documents_cleaned_df)))\n",
        "print(\"Number of QA pairs after cleaning: {}\".format(len(qid_docid_df)))\n"
      ]
    },
    {
      "cell_type": "code",
      "source": [
        "def get_empty_docs(df):\n",
        "    \"\"\"\n",
        "    Identify documents that are empty or only contain whitespace.\n",
        "\n",
        "    Args:\n",
        "        df (pd.DataFrame): DataFrame with columns ['docid', 'doc']\n",
        "\n",
        "    Returns:\n",
        "        empty_docids (list): list of docid values with empty docs\n",
        "        empty_indices (list): list of row indices with empty docs\n",
        "    \"\"\"\n",
        "    empty_indices = df[df['doc'].str.strip().isna() | (df['doc'].str.strip() == '')].index.tolist()\n",
        "    empty_docids = df.loc[empty_indices, 'docid'].tolist()\n",
        "    return empty_docids, empty_indices"
      ],
      "metadata": {
        "id": "_gOWCyHy_DB0"
      },
      "execution_count": null,
      "outputs": []
    },
    {
      "cell_type": "code",
      "source": [
        "import re\n",
        "\n",
        "def simple_tokenize(text):\n",
        "    \"\"\"\n",
        "    Tokenizes text into words using regular expressions.\n",
        "    Lowercases and splits on word boundaries.\n",
        "    \"\"\"\n",
        "    return re.findall(r'\\b\\w+\\b', text.lower())"
      ],
      "metadata": {
        "id": "DurTwB7a_RI7"
      },
      "execution_count": null,
      "outputs": []
    },
    {
      "cell_type": "code",
      "source": [
        "def process_questions(df):\n",
        "    df = df.copy()\n",
        "    df['q_processed'] = df['question'].str.lower()\n",
        "    df['tokenized_q'] = df['q_processed'].apply(simple_tokenize)\n",
        "    df['q_len'] = df['tokenized_q'].apply(len)\n",
        "    return df\n",
        "\n",
        "def process_answers(df):\n",
        "    df = df.copy()\n",
        "    df['doc_processed'] = df['doc'].str.lower()\n",
        "    df['tokenized_ans'] = df['doc_processed'].apply(simple_tokenize)\n",
        "    df['ans_len'] = df['tokenized_ans'].apply(len)\n",
        "    return df\n"
      ],
      "metadata": {
        "id": "hC2QpBeA_Wq_"
      },
      "execution_count": null,
      "outputs": []
    },
    {
      "cell_type": "code",
      "source": [
        "processed_questions = process_questions(questions_df)\n",
        "processed_answers = process_answers(documents_cleaned_df)"
      ],
      "metadata": {
        "id": "cXYz-Y1u_adR"
      },
      "execution_count": null,
      "outputs": []
    },
    {
      "cell_type": "code",
      "source": [
        "print(\"Processed and tokenized questions\")\n",
        "print(processed_questions.head())\n",
        "\n",
        "print(\"\\n\\nProcessed and tokenized answers\")\n",
        "print(processed_answers.head())\n",
        "\n",
        "avg_q_count = processed_questions['q_len'].mean()\n",
        "avg_ans_count = processed_answers['ans_len'].mean()\n",
        "\n",
        "print(\"\\nAverage question length:\", round(avg_q_count))\n",
        "print(\"Average answer length:\", round(avg_ans_count))\n",
        "\n",
        "print(\"Total answers:\", len(processed_answers))\n",
        "print(\"Number of answers with length > 512:\", len(processed_answers[processed_answers['ans_len'] > 512]))"
      ],
      "metadata": {
        "colab": {
          "base_uri": "https://localhost:8080/"
        },
        "id": "jxzhD4Q3_dbZ",
        "outputId": "8d631e46-80f5-4f61-c941-46cebd589862"
      },
      "execution_count": null,
      "outputs": [
        {
          "output_type": "stream",
          "name": "stdout",
          "text": [
            "Processed and tokenized questions\n",
            "                                                          qid  \\\n",
            "NaN    qid                                           question   \n",
            "0.0    0    What is considered a business expense on a bus...   \n",
            "1.0    1    Claiming business expenses for a business with...   \n",
            "2.0    2    Transferring money from One business checking ...   \n",
            "3.0    3    Having a separate bank account for business/in...   \n",
            "\n",
            "                       question          q_processed  \\\n",
            "NaN    qid            timestamp            timestamp   \n",
            "0.0    0     nov 8 '11 at 15:14   nov 8 '11 at 15:14   \n",
            "1.0    1    may 13 '14 at 13:17  may 13 '14 at 13:17   \n",
            "2.0    2    jan 20 '16 at 20:31  jan 20 '16 at 20:31   \n",
            "3.0    3          mar 1 at 0:24        mar 1 at 0:24   \n",
            "\n",
            "                          tokenized_q  q_len  \n",
            "NaN    qid                [timestamp]      1  \n",
            "0.0    0     [nov, 8, 11, at, 15, 14]      6  \n",
            "1.0    1    [may, 13, 14, at, 13, 17]      6  \n",
            "2.0    2    [jan, 20, 16, at, 20, 31]      6  \n",
            "3.0    3          [mar, 1, at, 0, 24]      5  \n",
            "\n",
            "\n",
            "Processed and tokenized answers\n",
            "                                                           docid  \\\n",
            "NaN     docid                                                doc   \n",
            "0.0     3      I'm not saying I don't like the idea of on-the...   \n",
            "1.0     31     So nothing preventing false ratings besides ad...   \n",
            "2.0     56     You can never use a health FSA for individual ...   \n",
            "3.0     59     Samsung created the LCD and other flat screen ...   \n",
            "\n",
            "                               doc        doc_processed  \\\n",
            "NaN     docid            timestamp            timestamp   \n",
            "0.0     3      oct 03 '12 at 14:56  oct 03 '12 at 14:56   \n",
            "1.0     31     sep 01 '17 at 13:36  sep 01 '17 at 13:36   \n",
            "2.0     56      jun 9 '14 at 17:37   jun 9 '14 at 17:37   \n",
            "3.0     59         dec 27 at 01:37      dec 27 at 01:37   \n",
            "\n",
            "                           tokenized_ans  ans_len  \n",
            "NaN     docid                [timestamp]        1  \n",
            "0.0     3      [oct, 03, 12, at, 14, 56]        6  \n",
            "1.0     31     [sep, 01, 17, at, 13, 36]        6  \n",
            "2.0     56      [jun, 9, 14, at, 17, 37]        6  \n",
            "3.0     59         [dec, 27, at, 01, 37]        5  \n",
            "\n",
            "Average question length: 6\n",
            "Average answer length: 6\n",
            "Total answers: 57639\n",
            "Number of answers with length > 512: 0\n"
          ]
        }
      ]
    },
    {
      "cell_type": "markdown",
      "source": [
        "# Loading Model"
      ],
      "metadata": {
        "id": "4zkibmQt7rJZ"
      }
    },
    {
      "cell_type": "code",
      "source": [
        "from transformers import AutoTokenizer\n",
        "\n",
        "# Load tokenizer (use 'yiyanghkust/finbert-qa' or 'ProsusAI/finbert' or 'roberta-base' etc.)\n",
        "tokenizer = AutoTokenizer.from_pretrained(\"bert-base-uncased\")\n",
        "\n",
        "def prepare_reranker_input(question: str, answer: str, tokenizer, max_length=512):\n",
        "    \"\"\"\n",
        "    Tokenizes question-answer pair for a reranker model in [CLS] question [SEP] answer [SEP] format.\n",
        "    Truncates to fit within max_length tokens.\n",
        "    \"\"\"\n",
        "\n",
        "    # Tokenize question and answer separately\n",
        "    q_tokens = tokenizer.tokenize(question)\n",
        "    a_tokens = tokenizer.tokenize(answer)\n",
        "\n",
        "    # Reserve space for special tokens: [CLS], [SEP], [SEP] → 3 tokens\n",
        "    max_input_tokens = max_length - 3\n",
        "\n",
        "    # Truncate answer if total is too long\n",
        "    while len(q_tokens) + len(a_tokens) > max_input_tokens:\n",
        "        # Prefer truncating answer first\n",
        "        if len(a_tokens) > len(q_tokens):\n",
        "            a_tokens = a_tokens[:-1]\n",
        "        else:\n",
        "            q_tokens = q_tokens[:-1]\n",
        "\n",
        "    # Reconstruct full tokens with special tokens\n",
        "    tokens = [tokenizer.cls_token] + q_tokens + [tokenizer.sep_token] + a_tokens + [tokenizer.sep_token]\n",
        "    input_ids = tokenizer.convert_tokens_to_ids(tokens)\n",
        "    attention_mask = [1] * len(input_ids)\n",
        "\n",
        "    # Pad if needed\n",
        "    padding_length = max_length - len(input_ids)\n",
        "    input_ids += [tokenizer.pad_token_id] * padding_length\n",
        "    attention_mask += [0] * padding_length\n",
        "\n",
        "    return {\n",
        "        \"input_ids\": input_ids,\n",
        "        \"attention_mask\": attention_mask\n",
        "    }\n"
      ],
      "metadata": {
        "colab": {
          "base_uri": "https://localhost:8080/",
          "height": 301,
          "referenced_widgets": [
            "eca52354993b4857b7368841d8d802cc",
            "c6352b7f77d54f098f19d45e3957c671",
            "05c125dbf29c4dde993bfccc352f8d0e",
            "0bd5ce8d838e4007aba9caa00a96a1e7",
            "62fb89b5f29d49dea01b74edb4d1afd1",
            "cdace3a76a50457280182acbde7554c6",
            "b636b1de31f04aa4898f5e906cd9d7c8",
            "5019978bb4ac41a890d44f5e791a790c",
            "c2bd1e38b9f541a5afbf02589624a5d8",
            "630b29eb38ee4b5bace082f1a239d3fe",
            "2409d37cdf3b47be9caffd7ffae1a259",
            "de9620a486c242f0804e03afa2b41e20",
            "e67d3ca282ae41f182c7b0cd08d85e2e",
            "91832b4e2e7644b89eeccf80d34b0d6f",
            "82596a6c0b62484cbd3d5fa3a6ced13b",
            "4d1b0e8fa203415abe68986be429b814",
            "41ec78c57e8e4967a8696496a0aab531",
            "35da82789a0c4b42a1c47c53dc08e0fa",
            "96f48a768e43483b95730aca4deb85f9",
            "1ec0dcbbde3648538f92a6565a463caf",
            "832d3f64c37d4857916f8c32f23527ec",
            "c4de546291ce48068393e8c0c371a789",
            "1667778e64674eb7a0bfecc84b1700d5",
            "08cd2e806e5141da915ae399a9d8ff0b",
            "dd276b8452974a52baf9ac44af43488a",
            "8c73971f1038402aa5410d365283036c",
            "5d547144981f4f8cbcf8db8b2a9b0aa9",
            "ebf924935a3c48fb85857e81a211f834",
            "e40ec64e553f4f338c3e771667884f40",
            "4f3ad1898f2b4752b9b2daf8e09464e8",
            "274e361ea9e84218babdf0261b5bd203",
            "e1eac731a9ec4709ace6209e59a55717",
            "1e9de96206b74ee7bc213ee15e1afe72",
            "4b64b4273d2b498d9a184b06b92fe336",
            "2aae79ece1844b6ea206415df32b2b76",
            "a700cc70d5814052872d6b514ee751bd",
            "19c5b5ba85284827a26d711be0c37afd",
            "ab2f298dc47c42179b37000c9fe9a4cb",
            "0a082fd38abe4d21995703e97b8dc308",
            "590b05334d04445581d646db571725a0",
            "f5155dc75ba64798a0cb8c875fc75d1e",
            "7ebf6308c25c4c3fbd032bddbae7cf80",
            "6df9de80b2ea45f4b7eaad310dd0168f",
            "d58473d2a6cc43b198c5a59c3149d211"
          ]
        },
        "id": "o3SkEGKvva3Q",
        "outputId": "cbf828af-9732-4cb1-8910-788303a8d12d"
      },
      "execution_count": null,
      "outputs": [
        {
          "output_type": "stream",
          "name": "stderr",
          "text": [
            "/usr/local/lib/python3.11/dist-packages/huggingface_hub/file_download.py:943: FutureWarning: `resume_download` is deprecated and will be removed in version 1.0.0. Downloads always resume when possible. If you want to force a new download, use `force_download=True`.\n",
            "  warnings.warn(\n",
            "/usr/local/lib/python3.11/dist-packages/huggingface_hub/utils/_auth.py:94: UserWarning: \n",
            "The secret `HF_TOKEN` does not exist in your Colab secrets.\n",
            "To authenticate with the Hugging Face Hub, create a token in your settings tab (https://huggingface.co/settings/tokens), set it as secret in your Google Colab and restart your session.\n",
            "You will be able to reuse this secret in all of your notebooks.\n",
            "Please note that authentication is recommended but still optional to access public models or datasets.\n",
            "  warnings.warn(\n"
          ]
        },
        {
          "output_type": "display_data",
          "data": {
            "text/plain": [
              "tokenizer_config.json:   0%|          | 0.00/48.0 [00:00<?, ?B/s]"
            ],
            "application/vnd.jupyter.widget-view+json": {
              "version_major": 2,
              "version_minor": 0,
              "model_id": "eca52354993b4857b7368841d8d802cc"
            }
          },
          "metadata": {}
        },
        {
          "output_type": "display_data",
          "data": {
            "text/plain": [
              "config.json:   0%|          | 0.00/570 [00:00<?, ?B/s]"
            ],
            "application/vnd.jupyter.widget-view+json": {
              "version_major": 2,
              "version_minor": 0,
              "model_id": "de9620a486c242f0804e03afa2b41e20"
            }
          },
          "metadata": {}
        },
        {
          "output_type": "display_data",
          "data": {
            "text/plain": [
              "vocab.txt:   0%|          | 0.00/232k [00:00<?, ?B/s]"
            ],
            "application/vnd.jupyter.widget-view+json": {
              "version_major": 2,
              "version_minor": 0,
              "model_id": "1667778e64674eb7a0bfecc84b1700d5"
            }
          },
          "metadata": {}
        },
        {
          "output_type": "display_data",
          "data": {
            "text/plain": [
              "tokenizer.json:   0%|          | 0.00/466k [00:00<?, ?B/s]"
            ],
            "application/vnd.jupyter.widget-view+json": {
              "version_major": 2,
              "version_minor": 0,
              "model_id": "4b64b4273d2b498d9a184b06b92fe336"
            }
          },
          "metadata": {}
        }
      ]
    },
    {
      "cell_type": "code",
      "source": [
        "question = \"What is considered a business expense on taxes?\"\n",
        "answer = \"Business expenses typically include costs for operations, employee salaries, office supplies, utilities, travel related to work, etc.\"\n",
        "\n",
        "encoded = prepare_reranker_input(question, answer, tokenizer)\n",
        "\n",
        "print(\"Input IDs:\", encoded[\"input_ids\"][:20])\n",
        "print(\"Attention Mask:\", encoded[\"attention_mask\"][:20])\n"
      ],
      "metadata": {
        "colab": {
          "base_uri": "https://localhost:8080/"
        },
        "id": "SqzrSUhTw-dh",
        "outputId": "65e59305-723c-4cdf-ba62-620b86513936"
      },
      "execution_count": null,
      "outputs": [
        {
          "output_type": "stream",
          "name": "stdout",
          "text": [
            "Input IDs: [101, 2054, 2003, 2641, 1037, 2449, 10961, 2006, 7773, 1029, 102, 2449, 11727, 4050, 2421, 5366, 2005, 3136, 1010, 7904]\n",
            "Attention Mask: [1, 1, 1, 1, 1, 1, 1, 1, 1, 1, 1, 1, 1, 1, 1, 1, 1, 1, 1, 1]\n"
          ]
        }
      ]
    },
    {
      "cell_type": "code",
      "source": [
        "from transformers import AutoTokenizer\n",
        "\n",
        "tokenizer = AutoTokenizer.from_pretrained(\"bert-base-uncased\")\n",
        "decoded = tokenizer.convert_ids_to_tokens([\n",
        "    101, 2054, 2003, 2641, 1037, 2449, 10961, 2006, 7773, 1029,\n",
        "    102, 2449, 11727, 4050, 2421, 5366, 2005, 3136, 1010, 7904\n",
        "])\n",
        "print(decoded)\n"
      ],
      "metadata": {
        "colab": {
          "base_uri": "https://localhost:8080/"
        },
        "id": "3xjruA0zxKnt",
        "outputId": "d818d0e0-d255-4665-807d-55f794f847c0"
      },
      "execution_count": null,
      "outputs": [
        {
          "output_type": "stream",
          "name": "stdout",
          "text": [
            "['[CLS]', 'what', 'is', 'considered', 'a', 'business', 'expense', 'on', 'taxes', '?', '[SEP]', 'business', 'expenses', 'typically', 'include', 'costs', 'for', 'operations', ',', 'employee']\n"
          ]
        }
      ]
    },
    {
      "cell_type": "markdown",
      "source": [
        "# For a Finbert Model"
      ],
      "metadata": {
        "id": "x3rpm7khNjUQ"
      }
    },
    {
      "cell_type": "markdown",
      "source": [
        "# Configuration"
      ],
      "metadata": {
        "id": "qTddYqFBWBas"
      }
    },
    {
      "cell_type": "code",
      "source": [
        "import pickle\n",
        "from transformers import AutoTokenizer, AutoModelForSequenceClassification\n",
        "\n",
        "# Configuration\n",
        "config = {\n",
        "    'bert_model_name': 'finbert-domain',\n",
        "    'max_seq_len': 512,\n",
        "    'batch_size': 16,\n",
        "    'learning_rate': 3e-6,\n",
        "    'weight_decay': 0.01,\n",
        "    'n_epochs': 2,\n",
        "    'num_warmup_steps': 10000\n",
        "}\n",
        "\n",
        "def load_pickle(path):\n",
        "    with open(path, 'rb') as f:\n",
        "        return pickle.load(f)\n",
        "\n",
        "# Load ID-to-text dictionaries\n",
        "docid_to_text = load_pickle('/content/drive/MyDrive/FIQA/Data/docid_to_text.pickle')\n",
        "qid_to_text = load_pickle('/content/drive/MyDrive/FIQA/Data/qid_to_text.pickle')\n",
        "\n",
        "# Load train, validation, and test datasets\n",
        "train_set = load_pickle('/content/drive/MyDrive/FIQA/Data/train_set_50.pickle')\n",
        "valid_set = load_pickle('/content/drive/MyDrive/FIQA/Data/valid_set_50.pickle')\n",
        "test_set = load_pickle('/content/drive/MyDrive/FIQA/Data/test_set_50.pickle')\n",
        "\n",
        "# Load ground-truth labels for evaluation\n",
        "labels = load_pickle('/content/drive/MyDrive/FIQA/Data/labels.pickle')\n",
        "\n",
        "# Display data info\n",
        "print(f\" Number of training questions: {len(train_set)}\")\n",
        "print(f\" Number of validation questions: {len(valid_set)}\")\n",
        "print(f\" Number of test questions: {len(test_set)}\")\n",
        "\n",
        "# Load FinBERT tokenizer\n",
        "print(\"\\nLoading FinBERT tokenizer...\")\n",
        "tokenizer = AutoTokenizer.from_pretrained(\"ProsusAI/finbert\")\n",
        "\n",
        "# (Later in your pipeline, load model like this)\n",
        "# model = AutoModelForSequenceClassification.from_pretrained(\"ProsusAI/finbert\", num_labels=2)\n"
      ],
      "metadata": {
        "colab": {
          "base_uri": "https://localhost:8080/",
          "height": 230,
          "referenced_widgets": [
            "79f25104c6784bb4aabf9e3d9502b38e",
            "b7ae1552423240b2a801a49e25bd73bb",
            "6b053c365a454fbe9a0160ccb462cc4b",
            "ed3579bc1b8f48829960db8453ab518c",
            "ddc1d87d8d334ec98f29d7ac3de5ee23",
            "784f55e83e734469afd120e37e9adb14",
            "b952df543f204a79ac1ea260fb7a5248",
            "60a3328885ba46119d92ea0c56a9cb1f",
            "53adaa0d6d3242d68c9dafba1f29b3e6",
            "32f9a3b3e8e54141a60dd4e6eadba694",
            "b884ccfe0be447bab4fd533a73655b64",
            "601bae4b41114dba93dbb29fbd87f598",
            "c056c502d57f401c978160609915a1b0",
            "4851ee03b1054c6a96232b6134e1ce8e",
            "98fd8f4a6ef846218f5f03be1f8e6407",
            "c289f953c02b47719a9d0a2414aa0f48",
            "e1bbd3314ef54e219442ffab3c403cc8",
            "d98dffa2de9242cda1f7140addde8fed",
            "9822cc0a41a441c2bb2ac55b74ae1ebd",
            "21d18dadeedb433c940384982c8f10c5",
            "aa36efce6cff454e801efa7b6c9ffcf0",
            "9a63def25d2246b382d96b34345043e2",
            "1d7357b07f03496c997fa1e6060961c8",
            "af1fbee57a89473f982dc716e7862e3b",
            "b939c38c1e0440ef96b63218e545ca82",
            "eaee5eae17534369b8dcf1b1e21ad64f",
            "fc16323ecf0f4dcab9c709f698a38e83",
            "d37bec6560ec4303bd0acf30b56cfaed",
            "25c3004211a84f6c895cd2d673806077",
            "5239b2c2bb254ba68d74ae8499804312",
            "0a325d85791f4785993e7dac5e3b18cc",
            "bf50fb7639f14925bd93f5fd1b980f80",
            "30b53f228c934d38a7c0ebcbb13cccf9",
            "5cc3c7e70b73460a8f7d00c05a915a26",
            "bd00cc78ca3d492993c57a3dd452f8b6",
            "a6ce68c624c448a2b1cdca83f6f9a81a",
            "460f501247d34cf888c2d19ad1e1498a",
            "5f80dece44604f6bbfaae53e72056d72",
            "a4fbca67263143339eb661fa7d348f57",
            "95f0e4cede704fb38f88c50aba7bbc3f",
            "d62bf117c3094d1e919288145ac7d243",
            "f82c12f0fbbd43ceb871febc076d072b",
            "6ef67d8dfeda47719ffd73e5495ce327",
            "f0199e4d3f3e47aa9276dea4153172f5"
          ]
        },
        "id": "rwvh4TXbllch",
        "outputId": "65a5448b-73cc-4bad-8517-3386916ced20"
      },
      "execution_count": null,
      "outputs": [
        {
          "output_type": "stream",
          "name": "stdout",
          "text": [
            " Number of training questions: 5676\n",
            " Number of validation questions: 631\n",
            " Number of test questions: 333\n",
            "\n",
            "Loading FinBERT tokenizer...\n"
          ]
        },
        {
          "output_type": "display_data",
          "data": {
            "text/plain": [
              "tokenizer_config.json:   0%|          | 0.00/252 [00:00<?, ?B/s]"
            ],
            "application/vnd.jupyter.widget-view+json": {
              "version_major": 2,
              "version_minor": 0,
              "model_id": "79f25104c6784bb4aabf9e3d9502b38e"
            }
          },
          "metadata": {}
        },
        {
          "output_type": "display_data",
          "data": {
            "text/plain": [
              "config.json:   0%|          | 0.00/758 [00:00<?, ?B/s]"
            ],
            "application/vnd.jupyter.widget-view+json": {
              "version_major": 2,
              "version_minor": 0,
              "model_id": "601bae4b41114dba93dbb29fbd87f598"
            }
          },
          "metadata": {}
        },
        {
          "output_type": "display_data",
          "data": {
            "text/plain": [
              "vocab.txt: 0.00B [00:00, ?B/s]"
            ],
            "application/vnd.jupyter.widget-view+json": {
              "version_major": 2,
              "version_minor": 0,
              "model_id": "1d7357b07f03496c997fa1e6060961c8"
            }
          },
          "metadata": {}
        },
        {
          "output_type": "display_data",
          "data": {
            "text/plain": [
              "special_tokens_map.json:   0%|          | 0.00/112 [00:00<?, ?B/s]"
            ],
            "application/vnd.jupyter.widget-view+json": {
              "version_major": 2,
              "version_minor": 0,
              "model_id": "5cc3c7e70b73460a8f7d00c05a915a26"
            }
          },
          "metadata": {}
        }
      ]
    },
    {
      "cell_type": "code",
      "source": [
        "from tqdm import tqdm\n",
        "\n",
        "def get_input_data(dataset, max_seq_len):\n",
        "    \"\"\"\n",
        "    Creates input parameters for training and validation.\n",
        "\n",
        "    Assumes:\n",
        "        - `tokenizer` is a globally available HuggingFace tokenizer\n",
        "        - `qid_to_text` and `docid_to_text` are global dictionaries\n",
        "\n",
        "    Args:\n",
        "        dataset: List of [qid, [positive_doc_ids], [candidate_doc_ids]]\n",
        "        max_seq_len: Max token length for BERT input\n",
        "\n",
        "    Returns:\n",
        "        input_ids, token_type_ids, att_masks, labels\n",
        "    \"\"\"\n",
        "    input_ids = []\n",
        "    token_type_ids = []\n",
        "    att_masks = []\n",
        "    labels = []\n",
        "\n",
        "    for qid, pos_doc_ids, candidate_doc_ids in tqdm(dataset, desc=\"Tokenizing QA pairs\"):\n",
        "        q_text = qid_to_text[qid]\n",
        "\n",
        "        for docid in candidate_doc_ids:\n",
        "            ans_text = docid_to_text[docid]\n",
        "\n",
        "            # Tokenize using HuggingFace tokenizer\n",
        "            encoded_seq = tokenizer.encode_plus(\n",
        "                q_text,\n",
        "                ans_text,\n",
        "                max_length=max_seq_len,\n",
        "                padding='max_length',\n",
        "                truncation=True,\n",
        "                return_token_type_ids=True,\n",
        "                return_attention_mask=True\n",
        "            )\n",
        "\n",
        "            input_ids.append(encoded_seq['input_ids'])\n",
        "            token_type_ids.append(encoded_seq['token_type_ids'])\n",
        "            att_masks.append(encoded_seq['attention_mask'])\n",
        "            labels.append(1 if docid in pos_doc_ids else 0)\n",
        "\n",
        "    return input_ids, token_type_ids, att_masks, labels"
      ],
      "metadata": {
        "id": "HW2Zu295kxlJ"
      },
      "execution_count": null,
      "outputs": []
    },
    {
      "cell_type": "markdown",
      "source": [
        "# DataLoaders"
      ],
      "metadata": {
        "id": "swT7cmvLYV_t"
      }
    },
    {
      "cell_type": "code",
      "source": [
        "def get_dataloader(dataset, split_type, max_seq_len, batch_size):\n",
        "    \"\"\"\n",
        "    Creates DataLoader for training or validation.\n",
        "\n",
        "    Args:\n",
        "        dataset: List in format [qid, [positive_doc_ids], [candidate_doc_ids]]\n",
        "        split_type: 'train' or 'validation'\n",
        "        max_seq_len: Maximum sequence length\n",
        "        batch_size: Batch size for loading\n",
        "\n",
        "    Returns:\n",
        "        dataloader: PyTorch DataLoader with encoded inputs\n",
        "    \"\"\"\n",
        "    # Use globally defined tokenizer, qid_to_text, and docid_to_text\n",
        "    input_id, token_type_id, att_mask, label = get_input_data(dataset, max_seq_len)\n",
        "\n",
        "    # Convert all inputs to torch tensors\n",
        "    input_ids = torch.tensor(input_id, dtype=torch.long)\n",
        "    token_type_ids = torch.tensor(token_type_id, dtype=torch.long)\n",
        "    att_masks = torch.tensor(att_mask, dtype=torch.long)\n",
        "    labels = torch.tensor(label, dtype=torch.long)\n",
        "\n",
        "    # Create TensorDataset\n",
        "    data = TensorDataset(input_ids, token_type_ids, att_masks, labels)\n",
        "\n",
        "    # Use appropriate sampler\n",
        "    sampler = RandomSampler(data) if split_type == \"train\" else SequentialSampler(data)\n",
        "\n",
        "    # Build DataLoader\n",
        "    dataloader = DataLoader(data, sampler=sampler, batch_size=batch_size)\n",
        "\n",
        "    return dataloader"
      ],
      "metadata": {
        "id": "3ajCV-iNlM_Y"
      },
      "execution_count": null,
      "outputs": []
    },
    {
      "cell_type": "code",
      "source": [
        "from tqdm import tqdm\n",
        "from transformers import logging\n",
        "logging.set_verbosity_error()\n",
        "# Generate DataLoaders\n",
        "train_dataloader = get_dataloader(\n",
        "    train_set,\n",
        "    'train',\n",
        "    config['max_seq_len'],\n",
        "    config['batch_size']\n",
        ")\n",
        "\n",
        "\n",
        "validation_dataloader = get_dataloader(\n",
        "    valid_set,\n",
        "    'validation',\n",
        "    config['max_seq_len'],\n",
        "    config['batch_size']\n",
        ")\n",
        "\n",
        "# Output stats\n",
        "print(f\"\\n Size of training DataLoader: {len(train_dataloader)} batches\")\n",
        "print(f\" Size of validation DataLoader: {len(validation_dataloader)} batches\")"
      ],
      "metadata": {
        "colab": {
          "base_uri": "https://localhost:8080/"
        },
        "id": "ThwizO9ulTcv",
        "outputId": "1f21bbc6-39c0-44eb-83ef-f22debb146b4"
      },
      "execution_count": null,
      "outputs": [
        {
          "output_type": "stream",
          "name": "stderr",
          "text": [
            "Tokenizing QA pairs: 100%|██████████| 5676/5676 [06:02<00:00, 15.64it/s]\n",
            "Tokenizing QA pairs: 100%|██████████| 631/631 [00:35<00:00, 17.65it/s]\n"
          ]
        },
        {
          "output_type": "stream",
          "name": "stdout",
          "text": [
            "\n",
            " Size of training DataLoader: 17738 batches\n",
            " Size of validation DataLoader: 1972 batches\n"
          ]
        }
      ]
    },
    {
      "cell_type": "markdown",
      "source": [
        "# Model Implementation"
      ],
      "metadata": {
        "id": "I1VOjve0YfDI"
      }
    },
    {
      "cell_type": "code",
      "source": [
        "from transformers import AutoModelForSequenceClassification\n",
        "\n",
        "# Config\n",
        "config = {\n",
        "    'bert_model_name': 'ProsusAI/finbert',\n",
        "    'max_seq_len': 512,\n",
        "    'batch_size': 16,\n",
        "    'learning_rate': 3e-6,\n",
        "    'weight_decay': 0.01,\n",
        "    'n_epochs': 2,\n",
        "    'num_warmup_steps': 10000\n",
        "}\n",
        "\n",
        "# Load FinBERT model with a new binary classification head\n",
        "model = AutoModelForSequenceClassification.from_pretrained(\n",
        "    config['bert_model_name'],\n",
        "    num_labels=2,  # Binary classification\n",
        "    ignore_mismatched_sizes=True  # This avoids the shape mismatch error\n",
        ")\n",
        "\n",
        "# Move model to GPU if available\n",
        "import torch\n",
        "device = torch.device(\"cuda\" if torch.cuda.is_available() else \"cpu\")\n",
        "model.to(device)\n",
        "\n",
        "print(\"Loaded ProsusAI/finbert model for binary classification.\")\n"
      ],
      "metadata": {
        "colab": {
          "base_uri": "https://localhost:8080/",
          "height": 154,
          "referenced_widgets": [
            "fe5acbdadff04a37863df23e579d6b99",
            "2c6306857ef54244a246ec28dfb2dde8",
            "f405353c6327402f88ade80b0368a822",
            "ba8062f57d8e4cd3ad8cdee84d2f150a",
            "d9d30f4b3ad4428796fecb416aa57ac4",
            "f328a4e436244721a94b0a9508321cc2",
            "bce0d0da0a494b868511e70ed94bb634",
            "916eeb19913f40ad8e60981758a1fc55",
            "dd91410d9a1c4f848e21f32586927489",
            "08ff30945b614fd38f6cd9c8873f350f",
            "72c83c505cf748c885b7aab02d48b0db"
          ]
        },
        "id": "TcC39R_qoOSo",
        "outputId": "e87ad122-9c40-4307-8b46-c05096631057"
      },
      "execution_count": null,
      "outputs": [
        {
          "output_type": "display_data",
          "data": {
            "text/plain": [
              "pytorch_model.bin:   0%|          | 0.00/438M [00:00<?, ?B/s]"
            ],
            "application/vnd.jupyter.widget-view+json": {
              "version_major": 2,
              "version_minor": 0,
              "model_id": "fe5acbdadff04a37863df23e579d6b99"
            }
          },
          "metadata": {}
        },
        {
          "output_type": "stream",
          "name": "stderr",
          "text": [
            "Some weights of BertForSequenceClassification were not initialized from the model checkpoint at ProsusAI/finbert and are newly initialized because the shapes did not match:\n",
            "- classifier.weight: found shape torch.Size([3, 768]) in the checkpoint and torch.Size([2, 768]) in the model instantiated\n",
            "- classifier.bias: found shape torch.Size([3]) in the checkpoint and torch.Size([2]) in the model instantiated\n",
            "You should probably TRAIN this model on a down-stream task to be able to use it for predictions and inference.\n"
          ]
        },
        {
          "output_type": "stream",
          "name": "stdout",
          "text": [
            "Loaded ProsusAI/finbert model for binary classification.\n"
          ]
        }
      ]
    },
    {
      "cell_type": "markdown",
      "source": [
        "# Accuracy, Train, validate"
      ],
      "metadata": {
        "id": "RskPz6QNYsDU"
      }
    },
    {
      "cell_type": "code",
      "source": [
        "def get_accuracy(preds, labels):\n",
        "    \"\"\"\n",
        "    Compute accuracy for binary classification.\n",
        "\n",
        "    Args:\n",
        "        preds (np.ndarray): Model prediction probabilities of shape (batch_size, 2).\n",
        "        labels (np.ndarray): Ground-truth labels of shape (batch_size,).\n",
        "\n",
        "    Returns:\n",
        "        float: Accuracy score.\n",
        "    \"\"\"\n",
        "    # Convert probability predictions to predicted class labels\n",
        "    predicted_classes = np.argmax(preds, axis=1)\n",
        "\n",
        "    # Ensure labels are also flattened for comparison\n",
        "    true_labels = labels.flatten()\n",
        "\n",
        "    # Calculate accuracy\n",
        "    accuracy = np.mean(predicted_classes == true_labels)\n",
        "\n",
        "    return accuracy"
      ],
      "metadata": {
        "id": "9vpyXQTeoR4h"
      },
      "execution_count": null,
      "outputs": []
    },
    {
      "cell_type": "code",
      "source": [
        "from tqdm import tqdm\n",
        "import torch\n",
        "import numpy as np\n",
        "\n",
        "def train(model, train_dataloader, optimizer, scheduler, device):\n",
        "    \"\"\"\n",
        "    Trains the model for one epoch and returns average loss and accuracy.\n",
        "\n",
        "    Args:\n",
        "        model (torch.nn.Module): The model to train\n",
        "        train_dataloader (DataLoader): Dataloader for training set\n",
        "        optimizer (torch.optim.Optimizer): Optimizer\n",
        "        scheduler (torch.optim.lr_scheduler): Learning rate scheduler\n",
        "        device (torch.device): Device to train on (CPU or GPU)\n",
        "\n",
        "    Returns:\n",
        "        avg_loss (float): Average training loss\n",
        "        avg_acc (float): Average training accuracy\n",
        "    \"\"\"\n",
        "    model.train()\n",
        "    total_loss = 0.0\n",
        "    total_accuracy = 0.0\n",
        "    num_batches = 0\n",
        "\n",
        "    for batch in tqdm(train_dataloader, desc=\"Training\"):\n",
        "        b_input_ids = batch[0].to(device)\n",
        "        b_token_type_ids = batch[1].to(device)\n",
        "        b_input_mask = batch[2].to(device)\n",
        "        b_labels = batch[3].to(device)\n",
        "\n",
        "        # Reset gradients\n",
        "        model.zero_grad()\n",
        "\n",
        "        # Forward pass\n",
        "        outputs = model(\n",
        "            input_ids=b_input_ids,\n",
        "            token_type_ids=b_token_type_ids,\n",
        "            attention_mask=b_input_mask,\n",
        "            labels=b_labels\n",
        "        )\n",
        "\n",
        "        loss = outputs.loss\n",
        "        logits = outputs.logits\n",
        "\n",
        "        # Backward pass\n",
        "        loss.backward()\n",
        "\n",
        "        # Gradient clipping\n",
        "        torch.nn.utils.clip_grad_norm_(model.parameters(), max_norm=1.0)\n",
        "\n",
        "        # Optimizer and scheduler step\n",
        "        optimizer.step()\n",
        "        scheduler.step()\n",
        "\n",
        "        # Accumulate loss\n",
        "        total_loss += loss.item()\n",
        "\n",
        "        # Compute accuracy\n",
        "        logits = logits.detach().cpu().numpy()\n",
        "        label_ids = b_labels.cpu().numpy()\n",
        "        batch_accuracy = get_accuracy(logits, label_ids)\n",
        "        total_accuracy += batch_accuracy\n",
        "        num_batches += 1\n",
        "\n",
        "    avg_loss = total_loss / num_batches\n",
        "    avg_acc = total_accuracy / num_batches\n",
        "\n",
        "    return avg_loss, avg_acc"
      ],
      "metadata": {
        "id": "ch5sI5aoo_Lz"
      },
      "execution_count": null,
      "outputs": []
    },
    {
      "cell_type": "code",
      "source": [
        "def validate(model, validation_dataloader, device):\n",
        "    \"\"\"\n",
        "    Validates the model and returns average loss and accuracy.\n",
        "\n",
        "    Args:\n",
        "        model (torch.nn.Module): The trained model\n",
        "        validation_dataloader (DataLoader): DataLoader for validation set\n",
        "        device (torch.device): Device to run evaluation on\n",
        "\n",
        "    Returns:\n",
        "        avg_loss (float): Average validation loss\n",
        "        avg_acc (float): Average validation accuracy\n",
        "    \"\"\"\n",
        "    model.eval()\n",
        "    total_loss = 0.0\n",
        "    total_accuracy = 0.0\n",
        "    num_batches = 0\n",
        "\n",
        "    for batch in tqdm(validation_dataloader, desc=\"Validating\"):\n",
        "        b_input_ids = batch[0].to(device)\n",
        "        b_token_type_ids = batch[1].to(device)\n",
        "        b_input_mask = batch[2].to(device)\n",
        "        b_labels = batch[3].to(device)\n",
        "\n",
        "        with torch.no_grad():\n",
        "            outputs = model(\n",
        "                input_ids=b_input_ids,\n",
        "                token_type_ids=b_token_type_ids,\n",
        "                attention_mask=b_input_mask,\n",
        "                labels=b_labels\n",
        "            )\n",
        "\n",
        "        loss = outputs.loss\n",
        "        logits = outputs.logits\n",
        "\n",
        "        logits = logits.detach().cpu().numpy()\n",
        "        label_ids = b_labels.cpu().numpy()\n",
        "\n",
        "        batch_accuracy = get_accuracy(logits, label_ids)\n",
        "        total_accuracy += batch_accuracy\n",
        "        total_loss += loss.item()\n",
        "        num_batches += 1\n",
        "\n",
        "    avg_loss = total_loss / num_batches\n",
        "    avg_acc = total_accuracy / num_batches\n",
        "\n",
        "    return avg_loss, avg_acc"
      ],
      "metadata": {
        "id": "obuNmJ5DpLul"
      },
      "execution_count": null,
      "outputs": []
    },
    {
      "cell_type": "code",
      "source": [
        "from torch.optim import AdamW  # Use AdamW from PyTorch\n",
        "from transformers import get_linear_schedule_with_warmup\n",
        "\n",
        "\n",
        "# Optimizer: AdamW is the recommended optimizer for BERT\n",
        "optimizer = AdamW(\n",
        "    model.parameters(),\n",
        "    lr=config['learning_rate'],\n",
        "    weight_decay=config['weight_decay']\n",
        ")\n",
        "\n",
        "# Total training steps = number of batches * number of epochs\n",
        "n_epochs = config['n_epochs']\n",
        "total_steps = len(train_dataloader) * n_epochs\n",
        "\n",
        "# Scheduler: linear warmup followed by linear decay\n",
        "scheduler = get_linear_schedule_with_warmup(\n",
        "    optimizer,\n",
        "    num_warmup_steps=config['num_warmup_steps'],  # Typically 0.1 * total_steps\n",
        "    num_training_steps=total_steps\n",
        ")"
      ],
      "metadata": {
        "id": "p2HkrxxFpQxr"
      },
      "execution_count": null,
      "outputs": []
    },
    {
      "cell_type": "code",
      "source": [
        "import os\n",
        "import torch\n",
        "\n",
        "# Directory to save the model\n",
        "save_dir = \"/content/drive/MyDrive/FIQA/Model\"\n",
        "os.makedirs(save_dir, exist_ok=True)\n",
        "\n",
        "# Initialize best validation loss\n",
        "best_valid_loss = float('inf')\n",
        "\n",
        "# Training loop\n",
        "for epoch in range(config['n_epochs']):\n",
        "    print(f\"\\n Epoch {epoch + 1}/{config['n_epochs']}\")\n",
        "\n",
        "    # === Training ===\n",
        "    train_loss, train_acc = train(\n",
        "        model,\n",
        "        train_dataloader,\n",
        "        optimizer,\n",
        "        scheduler,\n",
        "        device\n",
        "    )\n",
        "\n",
        "    # === Validation ===\n",
        "    valid_loss, valid_acc = validate(\n",
        "        model,\n",
        "        validation_dataloader,\n",
        "        device\n",
        "    )\n",
        "\n",
        "    # === Save model if validation improves ===\n",
        "    if valid_loss < best_valid_loss:\n",
        "        best_valid_loss = valid_loss\n",
        "        save_path = os.path.join(save_dir, f\"prosusfinbert_epoch{epoch + 1}.pt\")\n",
        "        torch.save(model.state_dict(), save_path)\n",
        "        print(f\" New best model saved to: {save_path}\")\n",
        "\n",
        "    # === Log results ===\n",
        "    print(f\"\\n Results for Epoch {epoch + 1}:\")\n",
        "    print(f\"     Train Loss     : {train_loss:.4f} | Accuracy: {train_acc * 100:.2f}%\")\n",
        "    print(f\"     Validation Loss: {valid_loss:.4f} | Accuracy: {valid_acc * 100:.2f}%\")\n"
      ],
      "metadata": {
        "colab": {
          "base_uri": "https://localhost:8080/"
        },
        "id": "vQVjMAPJpSYG",
        "outputId": "61ef0964-f35a-4379-d720-3b8d4fedcc4c"
      },
      "execution_count": null,
      "outputs": [
        {
          "output_type": "stream",
          "name": "stdout",
          "text": [
            "\n",
            " Epoch 1/2\n"
          ]
        },
        {
          "output_type": "stream",
          "name": "stderr",
          "text": [
            "Training: 100%|██████████| 17738/17738 [1:29:41<00:00,  3.30it/s]\n",
            "Validating: 100%|██████████| 1972/1972 [03:07<00:00, 10.51it/s]\n"
          ]
        },
        {
          "output_type": "stream",
          "name": "stdout",
          "text": [
            " New best model saved to: /content/drive/MyDrive/FIQA/Model/prosusfinbert_epoch1.pt\n",
            "\n",
            " Results for Epoch 1:\n",
            "     Train Loss     : 0.1057 | Accuracy: 97.90%\n",
            "     Validation Loss: 0.0855 | Accuracy: 98.02%\n",
            "\n",
            " Epoch 2/2\n"
          ]
        },
        {
          "output_type": "stream",
          "name": "stderr",
          "text": [
            "Training: 100%|██████████| 17738/17738 [1:29:42<00:00,  3.30it/s]\n",
            "Validating: 100%|██████████| 1972/1972 [03:07<00:00, 10.51it/s]"
          ]
        },
        {
          "output_type": "stream",
          "name": "stdout",
          "text": [
            "\n",
            " Results for Epoch 2:\n",
            "     Train Loss     : 0.0736 | Accuracy: 98.25%\n",
            "     Validation Loss: 0.0898 | Accuracy: 98.07%\n"
          ]
        },
        {
          "output_type": "stream",
          "name": "stderr",
          "text": [
            "\n"
          ]
        }
      ]
    },
    {
      "cell_type": "markdown",
      "source": [
        "# Evaluation"
      ],
      "metadata": {
        "id": "8Yf4CsK4770n"
      }
    },
    {
      "cell_type": "code",
      "source": [
        "import torch\n",
        "from torch.nn.functional import softmax\n",
        "import numpy as np\n",
        "\n",
        "def predict(model, q_text, cands, max_seq_len):\n",
        "    \"\"\"\n",
        "    Re-ranks the candidate answers for a given question using the model.\n",
        "\n",
        "    Args:\n",
        "        model (torch.nn.Module): Trained BERT model for classification.\n",
        "        q_text (str): Question text.\n",
        "        cands (list): List of candidate doc IDs.\n",
        "        max_seq_len (int): Max token length for inputs.\n",
        "\n",
        "    Returns:\n",
        "        ranked_ans (list): Candidate doc IDs ranked by relevance.\n",
        "        sorted_scores (list): Corresponding relevance scores.\n",
        "    \"\"\"\n",
        "    model.eval()\n",
        "    scores = []\n",
        "    cands_id = np.array(cands)\n",
        "\n",
        "    for docid in cands:\n",
        "        ans_text = docid_to_text.get(docid, \"\")\n",
        "\n",
        "        encoded = tokenizer.encode_plus(\n",
        "            q_text,\n",
        "            ans_text,\n",
        "            max_length=max_seq_len,\n",
        "            padding='max_length',\n",
        "            truncation=True,\n",
        "            return_token_type_ids=True,\n",
        "            return_attention_mask=True,\n",
        "            return_tensors='pt'\n",
        "        )\n",
        "\n",
        "        input_ids = encoded['input_ids'].to(device)\n",
        "        token_type_ids = encoded['token_type_ids'].to(device)\n",
        "        attention_mask = encoded['attention_mask'].to(device)\n",
        "\n",
        "        with torch.no_grad():\n",
        "            outputs = model(\n",
        "                input_ids=input_ids,\n",
        "                token_type_ids=token_type_ids,\n",
        "                attention_mask=attention_mask\n",
        "            )\n",
        "            logits = outputs.logits\n",
        "            prob = softmax(logits, dim=1)\n",
        "            scores.append(prob[:, 1].item())  # Probability of relevance (label=1)\n",
        "\n",
        "    # Sort candidate IDs based on scores\n",
        "    sorted_idx = np.argsort(scores)[::-1]\n",
        "    ranked_ans = cands_id[sorted_idx].tolist()\n",
        "    sorted_scores = np.round(np.array(scores)[sorted_idx], 3).tolist()\n",
        "\n",
        "    return ranked_ans, sorted_scores"
      ],
      "metadata": {
        "id": "SESgi5KsYxIe"
      },
      "execution_count": null,
      "outputs": []
    },
    {
      "cell_type": "code",
      "source": [
        "from tqdm import tqdm\n",
        "\n",
        "def get_rank(model, test_set, max_seq_len):\n",
        "    \"\"\"\n",
        "    Re-ranks candidate answers for each question in the test set using the fine-tuned model.\n",
        "\n",
        "    Args:\n",
        "        model (torch.nn.Module): Trained BERT model for sequence classification.\n",
        "        test_set (list): List of test samples in [qid, [relevant_docids], [candidate_docids]] format.\n",
        "        max_seq_len (int): Maximum sequence length for input encoding.\n",
        "\n",
        "    Returns:\n",
        "        dict: Mapping of qid -> list of ranked candidate docids based on model scores.\n",
        "    \"\"\"\n",
        "    qid_pred_rank = {}\n",
        "    model.eval()\n",
        "\n",
        "    for seq in tqdm(test_set, desc=\" Re-ranking\"):\n",
        "        qid, label, cands = seq\n",
        "        q_text = qid_to_text.get(qid, \"\")\n",
        "\n",
        "        ranked_ans, _ = predict(model, q_text, cands, max_seq_len)\n",
        "        qid_pred_rank[qid] = ranked_ans\n",
        "\n",
        "    return qid_pred_rank"
      ],
      "metadata": {
        "id": "8bIHfhVTY7c4"
      },
      "execution_count": null,
      "outputs": []
    },
    {
      "cell_type": "code",
      "source": [
        "from transformers import AutoModelForSequenceClassification\n",
        "import torch\n",
        "\n",
        "# Set device\n",
        "device = torch.device(\"cuda\" if torch.cuda.is_available() else \"cpu\")\n",
        "\n",
        "# Path to the saved checkpoint\n",
        "checkpoint_path = \"/content/drive/MyDrive/FIQA/Model/prosusfinbert_epoch1.pt\"  # change to your actual filename\n",
        "\n",
        "# Initialize model architecture with the same base\n",
        "model = AutoModelForSequenceClassification.from_pretrained(\n",
        "    \"ProsusAI/finbert\",\n",
        "    num_labels=2,\n",
        "    ignore_mismatched_sizes=True  # required if model head differs from pretraining\n",
        ")\n",
        "\n",
        "# Load saved weights\n",
        "model.load_state_dict(torch.load(checkpoint_path, map_location=device))\n",
        "model.to(device)\n",
        "\n",
        "print(\" ProsusFinBERT model loaded successfully from:\", checkpoint_path)\n"
      ],
      "metadata": {
        "colab": {
          "base_uri": "https://localhost:8080/"
        },
        "id": "2rgVhzg8ZPL6",
        "outputId": "78d9dd85-c811-4e10-b2c2-32839918ebbf"
      },
      "execution_count": null,
      "outputs": [
        {
          "output_type": "stream",
          "name": "stderr",
          "text": [
            "Some weights of BertForSequenceClassification were not initialized from the model checkpoint at ProsusAI/finbert and are newly initialized because the shapes did not match:\n",
            "- classifier.weight: found shape torch.Size([3, 768]) in the checkpoint and torch.Size([2, 768]) in the model instantiated\n",
            "- classifier.bias: found shape torch.Size([3]) in the checkpoint and torch.Size([2]) in the model instantiated\n",
            "You should probably TRAIN this model on a down-stream task to be able to use it for predictions and inference.\n"
          ]
        },
        {
          "output_type": "stream",
          "name": "stdout",
          "text": [
            " ProsusFinBERT model loaded successfully from: /content/drive/MyDrive/FIQA/Model/prosusfinbert_epoch1.pt\n"
          ]
        }
      ]
    },
    {
      "cell_type": "code",
      "source": [
        "labels = {int(k): [int(docid) for docid in v] for k, v in labels.items()}\n"
      ],
      "metadata": {
        "id": "2b3okZ3WauNI"
      },
      "execution_count": null,
      "outputs": []
    },
    {
      "cell_type": "code",
      "source": [
        "qid_pred_rank = get_rank(model, test_set, config['max_seq_len'])\n"
      ],
      "metadata": {
        "colab": {
          "base_uri": "https://localhost:8080/"
        },
        "id": "9u8AMo4LbOZV",
        "outputId": "3aded64c-6f62-4b99-da65-aa4789c1bb9d"
      },
      "execution_count": null,
      "outputs": [
        {
          "output_type": "stream",
          "name": "stderr",
          "text": [
            " Re-ranking: 100%|██████████| 333/333 [03:09<00:00,  1.75it/s]\n"
          ]
        }
      ]
    },
    {
      "cell_type": "code",
      "source": [
        "for qid in list(qid_pred_rank.keys())[:3]:\n",
        "    print(f\"Query: {qid}\")\n",
        "    print(f\"Predicted: {qid_pred_rank[qid][:5]}\")\n",
        "    print(f\"Relevant: {labels.get(qid)}\")\n"
      ],
      "metadata": {
        "colab": {
          "base_uri": "https://localhost:8080/"
        },
        "id": "-BP0kQKGahFY",
        "outputId": "6b501a8d-dc2a-4956-b06a-c1a84976d70b"
      },
      "execution_count": null,
      "outputs": [
        {
          "output_type": "stream",
          "name": "stdout",
          "text": [
            "Query: 14\n",
            "Predicted: [398960, 385949, 96910, 513658, 149820]\n",
            "Relevant: [398960]\n",
            "Query: 68\n",
            "Predicted: [545296, 18850, 354716, 192516, 259227]\n",
            "Relevant: [19183]\n",
            "Query: 70\n",
            "Predicted: [397608, 447231, 541809, 40257, 540395]\n",
            "Relevant: [327002]\n"
          ]
        }
      ]
    },
    {
      "cell_type": "code",
      "source": [
        "hits = 0\n",
        "for qid in qid_pred_rank:\n",
        "    if set(qid_pred_rank[qid][:10]) & set(labels.get(qid, [])):\n",
        "        hits += 1\n",
        "print(f\"\\nQueries with at least one hit in top-10: {hits}/{len(qid_pred_rank)}\")\n"
      ],
      "metadata": {
        "colab": {
          "base_uri": "https://localhost:8080/"
        },
        "id": "KOzCFDI_an8A",
        "outputId": "ed8ac0a8-659e-497e-e446-82a3a9cf8feb"
      },
      "execution_count": null,
      "outputs": [
        {
          "output_type": "stream",
          "name": "stdout",
          "text": [
            "\n",
            "Queries with at least one hit in top-10: 186/333\n"
          ]
        }
      ]
    },
    {
      "cell_type": "code",
      "source": [
        "def evaluate(predictions, ground_truth, k=10):\n",
        "    \"\"\"\n",
        "    Evaluate retrieval performance using MRR, nDCG, and Precision@1.\n",
        "\n",
        "    Args:\n",
        "        predictions (dict): {qid: [ranked_docids]}\n",
        "        ground_truth (dict): {qid: [relevant_docids]}\n",
        "        k (int): Cutoff for metrics\n",
        "\n",
        "    Returns:\n",
        "        mrr (float), avg_ndcg (float), precision_at_1 (float), rank_positions (list)\n",
        "    \"\"\"\n",
        "    mrr_total, ndcg_total, precision_total = 0, 0, 0\n",
        "    rank_positions = []\n",
        "\n",
        "    for qid in predictions:\n",
        "        ranked = predictions[qid][:k]\n",
        "        relevant = set(ground_truth.get(qid, []))\n",
        "\n",
        "        # MRR\n",
        "        reciprocal_rank = 0\n",
        "        for i, docid in enumerate(ranked):\n",
        "            if docid in relevant:\n",
        "                reciprocal_rank = 1 / (i + 1)\n",
        "                rank_positions.append(i + 1)\n",
        "                break\n",
        "        else:\n",
        "            rank_positions.append(k + 1)\n",
        "        mrr_total += reciprocal_rank\n",
        "\n",
        "        # Precision@1\n",
        "        precision_total += 1 if ranked[0] in relevant else 0\n",
        "\n",
        "        # nDCG@k\n",
        "        dcg = 0\n",
        "        for i, docid in enumerate(ranked):\n",
        "            if docid in relevant:\n",
        "                dcg += 1 / np.log2(i + 2)\n",
        "        ideal_dcg = sum([1 / np.log2(i + 2) for i in range(min(len(relevant), k))])\n",
        "        ndcg = dcg / ideal_dcg if ideal_dcg > 0 else 0\n",
        "        ndcg_total += ndcg\n",
        "\n",
        "    mrr = mrr_total / len(predictions)\n",
        "    avg_ndcg = ndcg_total / len(predictions)\n",
        "    precision_at_1 = precision_total / len(predictions)\n",
        "\n",
        "    return mrr, avg_ndcg, precision_at_1, rank_positions\n"
      ],
      "metadata": {
        "id": "fLDK_5vOdCkb"
      },
      "execution_count": null,
      "outputs": []
    },
    {
      "cell_type": "code",
      "source": [
        "from transformers import AutoModelForSequenceClassification, AutoTokenizer\n",
        "import torch\n",
        "import os\n",
        "\n",
        "# Set device\n",
        "device = torch.device(\"cuda\" if torch.cuda.is_available() else \"cpu\")\n",
        "\n",
        "# Define the model checkpoint path\n",
        "trained_model_path = \"/content/drive/MyDrive/FIQA/Model/prosusfinbert_epoch1.pt\"  # update as needed\n",
        "\n",
        "# Initialize the model architecture\n",
        "model = AutoModelForSequenceClassification.from_pretrained(\n",
        "    \"ProsusAI/finbert\",\n",
        "    num_labels=2,\n",
        "    ignore_mismatched_sizes=True\n",
        ")\n",
        "\n",
        "# Load fine-tuned weights\n",
        "model.load_state_dict(torch.load(trained_model_path, map_location=device))\n",
        "model.to(device)\n",
        "model.eval()\n",
        "\n",
        "print(\" ProsusFinBERT model loaded and ready for evaluation.\")\n",
        "\n",
        "# === Evaluate on test set ===\n",
        "print(\"\\n Evaluating on test set...\\n\")\n",
        "qid_pred_rank = get_rank(model, test_set, config['max_seq_len'])\n",
        "\n",
        "# Evaluation parameters\n",
        "k = 10\n",
        "num_q = len(test_set)\n",
        "\n",
        "# `labels` should be a dict {qid: [relevant_docids]} prepared during preprocessing\n",
        "MRR, average_ndcg, precision, rank_pos = evaluate(qid_pred_rank, labels, k)\n",
        "\n",
        "# Output metrics\n",
        "print(\"\\n Evaluation Results:\")\n",
        "print(f\" Average nDCG@{k} for {num_q} queries: {average_ndcg:.3f}\")\n",
        "print(f\" MRR@{k} for {num_q} queries: {MRR:.3f}\")\n",
        "print(f\" Precision@1 for {num_q} queries: {precision:.3f}\")\n"
      ],
      "metadata": {
        "colab": {
          "base_uri": "https://localhost:8080/"
        },
        "id": "igjxSoiPZiI7",
        "outputId": "26dbba21-17cc-42b2-8501-36bc976211d4"
      },
      "execution_count": null,
      "outputs": [
        {
          "output_type": "stream",
          "name": "stderr",
          "text": [
            "Some weights of BertForSequenceClassification were not initialized from the model checkpoint at ProsusAI/finbert and are newly initialized because the shapes did not match:\n",
            "- classifier.weight: found shape torch.Size([3, 768]) in the checkpoint and torch.Size([2, 768]) in the model instantiated\n",
            "- classifier.bias: found shape torch.Size([3]) in the checkpoint and torch.Size([2]) in the model instantiated\n",
            "You should probably TRAIN this model on a down-stream task to be able to use it for predictions and inference.\n"
          ]
        },
        {
          "output_type": "stream",
          "name": "stdout",
          "text": [
            " ProsusFinBERT model loaded and ready for evaluation.\n",
            "\n",
            " Evaluating on test set...\n",
            "\n"
          ]
        },
        {
          "output_type": "stream",
          "name": "stderr",
          "text": [
            " Re-ranking: 100%|██████████| 333/333 [03:09<00:00,  1.76it/s]"
          ]
        },
        {
          "output_type": "stream",
          "name": "stdout",
          "text": [
            "\n",
            " Evaluation Results:\n",
            " Average nDCG@10 for 333 queries: 0.342\n",
            " MRR@10 for 333 queries: 0.416\n",
            " Precision@1 for 333 queries: 0.354\n"
          ]
        },
        {
          "output_type": "stream",
          "name": "stderr",
          "text": [
            "\n"
          ]
        }
      ]
    },
    {
      "cell_type": "markdown",
      "source": [
        "# Answer Re-ranking"
      ],
      "metadata": {
        "id": "KixHI37B8Kvv"
      }
    },
    {
      "cell_type": "code",
      "source": [
        "from rank_bm25 import BM25Okapi\n",
        "\n",
        "# Prepare corpus\n",
        "doc_ids = sorted(docid_to_text.keys())\n",
        "doc_texts = [docid_to_text[docid] for docid in doc_ids]\n",
        "tokenized_corpus = [text.split() for text in doc_texts]\n",
        "\n",
        "# Initialize BM25\n",
        "bm25 = BM25Okapi(tokenized_corpus)\n"
      ],
      "metadata": {
        "id": "cQbNfMHZg4o8"
      },
      "execution_count": null,
      "outputs": []
    },
    {
      "cell_type": "code",
      "source": [
        "for idx, sample in enumerate(test_set):\n",
        "    qid, label = sample[0], sample[1]\n",
        "    query = qid_to_text[qid]\n",
        "    query_tokens = query.split()\n",
        "\n",
        "    scores = bm25.get_scores(query_tokens)\n",
        "    top_indices = sorted(range(len(scores)), key=lambda i: -scores[i])[:50]\n",
        "    cands = [doc_ids[i] for i in top_indices]\n",
        "\n",
        "    if any(lab in cands for lab in label):\n",
        "        print(f\"Found good test sample: test_set[{idx}]\")\n",
        "        print(\"QID:\", qid)\n",
        "        print(\"Label:\", label)\n",
        "        print(\"Matching candidates:\", set(cands) & set(label))\n",
        "        break\n"
      ],
      "metadata": {
        "colab": {
          "base_uri": "https://localhost:8080/"
        },
        "id": "8HlQ8qiniYO4",
        "outputId": "8dcb45ab-5ecc-465a-f305-aeca0861dea5"
      },
      "execution_count": null,
      "outputs": [
        {
          "output_type": "stream",
          "name": "stdout",
          "text": [
            "Found good test sample: test_set[4]\n",
            "QID: 458\n",
            "Label: [263485, 218858]\n",
            "Matching candidates: {263485}\n"
          ]
        }
      ]
    },
    {
      "cell_type": "code",
      "source": [
        "qid, label = test_set[4][0], test_set[4][1]\n",
        "query = qid_to_text[qid]\n",
        "query_tokens = query.split()\n"
      ],
      "metadata": {
        "id": "rfJBe-lRik0q"
      },
      "execution_count": null,
      "outputs": []
    },
    {
      "cell_type": "code",
      "source": [
        "scores = bm25.get_scores(query_tokens)\n",
        "top_indices = sorted(range(len(scores)), key=lambda i: -scores[i])[:50]\n",
        "cands = [doc_ids[i] for i in top_indices]\n"
      ],
      "metadata": {
        "id": "yyMqJaNBin34"
      },
      "execution_count": null,
      "outputs": []
    },
    {
      "cell_type": "code",
      "source": [
        "rank, probs = predict(model, query, cands, config['max_seq_len'])\n"
      ],
      "metadata": {
        "id": "tEIGpZjLirbh"
      },
      "execution_count": null,
      "outputs": []
    },
    {
      "cell_type": "code",
      "source": [
        "def get_rel(relevant_docids, candidate_docids):\n",
        "    return [1 if int(docid) in relevant_docids else 0 for docid in candidate_docids]\n",
        "\n",
        "cand_rel = get_rel(label, cands)\n",
        "pred_rel = get_rel(label, rank)\n"
      ],
      "metadata": {
        "id": "A2Qvkm5rium-"
      },
      "execution_count": null,
      "outputs": []
    },
    {
      "cell_type": "markdown",
      "source": [
        "# Retriever"
      ],
      "metadata": {
        "id": "74_kzmoW8aLK"
      }
    },
    {
      "cell_type": "code",
      "source": [
        "print(\"Retriever: \\n\\t Ranking: {}\\n\\n\\t Relevancy: {}\\n\".format(cands[:10], cand_rel[:10]))\n",
        "print(\"Re-ranker: \\n\\t Ranking: {}\\n\\n\\t Probability: {}\\n\\n\\t Relevancy: {}\".format(\n",
        "    rank[:10], probs[:10], pred_rel[:10]\n",
        "))\n",
        "print(\"\\nLabel DocIDs: \\n\\t{}\".format(label))\n"
      ],
      "metadata": {
        "colab": {
          "base_uri": "https://localhost:8080/"
        },
        "id": "hJD0zeAuiyEi",
        "outputId": "9718c546-2775-4e57-9358-11b85a0521c0"
      },
      "execution_count": null,
      "outputs": [
        {
          "output_type": "stream",
          "name": "stdout",
          "text": [
            "Retriever: \n",
            "\t Ranking: [62869, 263485, 382657, 131451, 297241, 217715, 300254, 272709, 292811, 303411]\n",
            "\n",
            "\t Relevancy: [0, 1, 0, 0, 0, 0, 0, 0, 0, 0]\n",
            "\n",
            "Re-ranker: \n",
            "\t Ranking: [263485, 62869, 160340, 131451, 357094, 297241, 300254, 2528, 284809, 292811]\n",
            "\n",
            "\t Probability: [0.468, 0.331, 0.059, 0.049, 0.014, 0.011, 0.004, 0.002, 0.002, 0.002]\n",
            "\n",
            "\t Relevancy: [1, 0, 0, 0, 0, 0, 0, 0, 0, 0]\n",
            "\n",
            "Label DocIDs: \n",
            "\t[263485, 218858]\n"
          ]
        }
      ]
    },
    {
      "cell_type": "code",
      "source": [
        "print(\"Question: \\n\\t{}\\n\".format(query))\n",
        "print(\"Answer Re-ranker:\\n\\t{}\\n\".format(docid_to_text[rank[0]]))\n",
        "print(\"Answer Retriever:\\n\\t{}\\n\".format(docid_to_text[cands[0]]))\n",
        "print(\"Label (first):\\n\\t{}\".format(docid_to_text[label[0]]))\n"
      ],
      "metadata": {
        "colab": {
          "base_uri": "https://localhost:8080/"
        },
        "id": "1HwPOSVZi-jr",
        "outputId": "cddcd83f-7c4a-424c-b830-28df5e2f8fd2"
      },
      "execution_count": null,
      "outputs": [
        {
          "output_type": "stream",
          "name": "stdout",
          "text": [
            "Question: \n",
            "\tHow would IRS treat reimbursement in a later year of moving expenses?\n",
            "\n",
            "Answer Re-ranker:\n",
            "\tIRS pub 521 has all the information you need. Expenses reimbursed. If you are reimbursed for your expenses and you   use the cash method of accounting, you can deduct your expenses either   in the year you paid them or in the year you received the   reimbursement. If you use the cash method of accounting, you can   choose to deduct the expenses in the year you are reimbursed even   though you paid the expenses in a different year. See Choosing when to   deduct, next. If you deduct your expenses and you receive the   reimbursement in a later year, you must include the reimbursement in   your income on Form 1040, line 21 This is not unusual. Anybody who moves near the end of the year can have this problem. The 39 week time test also can be an issue that span over 2 tax years. I would take the deduction for the expenses as soon a I could, and then count the income in the later year if they pay me back. IF they do so before April 15th, then I would put them on the same tax form to make things easier.\n",
            "\n",
            "Answer Retriever:\n",
            "\tThis very topic was the subject of a question on workplace SE https://workplace.stackexchange.com/questions/8996/what-can-relocation-assistance-entail TL/DR;  From tax publication 521 - Moving expenses table regarding how to report IF your Form W-2 shows... your entire reimbursement reported   as   wages in box 1         AND you have... moving expenses    THEN... file Form 3903 showing all allowable  expenses,* but do not   show any   reimbursements. There are tax implications Covered in tax publication 521 - Moving expenses and Employers tax guide to Fringe Benefits related to moving expenses. From the Employers View: Moving Expense Reimbursements This exclusion applies to any amount you directly or indirectly give to an employee, (including services furnished in kind) as payment for, or reimbursement of, moving expenses. You must make the reimbursement under rules similar to those described in chapter 11 of Publication 535 for reimbursement of expenses for travel, meals, and entertainment under accountable plans. The exclusion applies only to reimbursement of moving expenses that the employee could deduct if he or she had paid or incurred them without reimbursement. However, it does not apply if the employee actually deducted the expenses in a previous year.   Deductible moving expenses.   Deductible moving expenses include only the reasonable expenses of: Moving household goods and personal effects from the former home to the new home, and Traveling (including lodging) from the former home to the new home. Deductible moving expenses do not include any expenses for meals and must meet both the distance test and the time test. The distance test is met if the new job location is at least 50 miles farther from the employee's old home than the old job location was. The time test is met if the employee works at least 39 weeks during the first 12 months after arriving in the general area of the new job location. For more information on deductible moving expenses, see Publication 521, Moving Expenses. Employee.   For this exclusion, treat the following individuals as employees. A current employee. A leased employee who has provided services to you on a substantially full-time basis for at least a year if the services are performed under your primary direction or control. Exception for S corporation shareholders.   Do not treat a 2% shareholder of an S corporation as an employee of the corporation for this purpose. A 2% shareholder is someone who directly or indirectly owns (at any time during the year) more than 2% of the corporation's stock or stock with more than 2% of the voting power. Treat a 2% shareholder as you would a partner in a partnership for fringe benefit purposes, but do not treat the benefit as a reduction in distributions to the 2% shareholder. Exclusion from wages.   Generally, you can exclude qualifying moving expense reimbursement you provide to an employee from the employee's wages. If you paid the reimbursement directly to the employee, report the amount in box 12 of Form W-2 with the code “P.” Do not report payments to a third party for the employee's moving expenses or the value of moving services you provided in kind.  From the employees view: The not be included as income the expenses must be from an accountable plan: Accountable Plans To be an accountable plan, your employer's reimbursement arrangement must require you to meet all three of the following rules. Your expenses must have a business connection – that is, you must have paid or incurred deductible expenses while performing services as an employee of your employer. Two examples of this are the reasonable expenses of moving your possessions from your former home to your new home, and traveling from your former home to your new home. You must adequately account to your employer for these expenses within a reasonable period of time. You must return any excess reimbursement or allowance within a reasonable period of time. Also what is interesting is the table regarding how to report IF your Form W-2 shows... your entire reimbursement reported   as   wages in box 1         AND you have... moving expenses    THEN... file Form 3903 showing all allowable  expenses,* but do not   show any   reimbursements.\n",
            "\n",
            "Label (first):\n",
            "\tIRS pub 521 has all the information you need. Expenses reimbursed. If you are reimbursed for your expenses and you   use the cash method of accounting, you can deduct your expenses either   in the year you paid them or in the year you received the   reimbursement. If you use the cash method of accounting, you can   choose to deduct the expenses in the year you are reimbursed even   though you paid the expenses in a different year. See Choosing when to   deduct, next. If you deduct your expenses and you receive the   reimbursement in a later year, you must include the reimbursement in   your income on Form 1040, line 21 This is not unusual. Anybody who moves near the end of the year can have this problem. The 39 week time test also can be an issue that span over 2 tax years. I would take the deduction for the expenses as soon a I could, and then count the income in the later year if they pay me back. IF they do so before April 15th, then I would put them on the same tax form to make things easier.\n"
          ]
        }
      ]
    },
    {
      "cell_type": "markdown",
      "source": [
        "# Error Analysis"
      ],
      "metadata": {
        "id": "QZzIPwHzU1y1"
      }
    },
    {
      "cell_type": "code",
      "source": [
        "import pickle\n",
        "\n",
        "with open('/content/drive/MyDrive/FIQA/Data/qid_to_text.pickle', 'rb') as f:\n",
        "    qid_to_text = pickle.load(f)\n"
      ],
      "metadata": {
        "id": "-fKcFfF8eQes"
      },
      "execution_count": null,
      "outputs": []
    },
    {
      "cell_type": "code",
      "source": [
        "print(\"Sample keys from qid_to_text:\", list(qid_to_text.keys())[:5])\n"
      ],
      "metadata": {
        "colab": {
          "base_uri": "https://localhost:8080/"
        },
        "id": "zGKL8GEQev0q",
        "outputId": "a6f9cbbd-53f7-410e-b5a9-0f8bb9a86e4c"
      },
      "execution_count": null,
      "outputs": [
        {
          "output_type": "stream",
          "name": "stdout",
          "text": [
            "Sample keys from qid_to_text: [0, 1, 2, 3, 4]\n"
          ]
        }
      ]
    },
    {
      "cell_type": "code",
      "source": [
        "false_negatives = []\n",
        "\n",
        "for qid, ranked_docs in qid_pred_rank.items():\n",
        "    relevant = set(labels.get(qid, []))\n",
        "    top_k = set(ranked_docs[:10])\n",
        "    missed = relevant - top_k\n",
        "\n",
        "    if missed:\n",
        "        try:\n",
        "            query_text = qid_to_text[int(qid)]\n",
        "        except KeyError:\n",
        "            print(f\"Skipping qid '{qid}' — not found in qid_to_text\")\n",
        "            continue\n",
        "\n",
        "        false_negatives.append({\n",
        "            \"qid\": qid,\n",
        "            \"query\": query_text,\n",
        "            \"relevant\": list(relevant),\n",
        "            \"predicted_top10\": ranked_docs[:10],\n",
        "            \"missed_relevant\": list(missed)\n",
        "        })\n",
        "\n"
      ],
      "metadata": {
        "id": "72CS1owid5ip"
      },
      "execution_count": null,
      "outputs": []
    },
    {
      "cell_type": "code",
      "source": [
        "for error in false_negatives[:5]:\n",
        "    print(f\"\\n Query ID: {error['qid']}\")\n",
        "    print(f\" Query Text: {error['query']}\")\n",
        "    print(f\" Relevant DocIDs: {error['relevant']}\")\n",
        "    print(f\" Top-10 Predicted: {error['predicted_top10']}\")\n",
        "    print(f\" Missed Relevant Docs: {error['missed_relevant']}\")\n"
      ],
      "metadata": {
        "colab": {
          "base_uri": "https://localhost:8080/"
        },
        "id": "qm_b3QTnfQks",
        "outputId": "bf147fb7-035e-4447-fcdf-84fc90663c92"
      },
      "execution_count": null,
      "outputs": [
        {
          "output_type": "stream",
          "name": "stdout",
          "text": [
            "\n",
            " Query ID: 68\n",
            " Query Text: Intentions of Deductible Amount for Small Business\n",
            " Relevant DocIDs: [19183]\n",
            " Top-10 Predicted: [545296, 18850, 354716, 192516, 259227, 381151, 160612, 245447, 477940, 272709]\n",
            " Missed Relevant Docs: [19183]\n",
            "\n",
            " Query ID: 81\n",
            " Query Text: Does revenue equal gross profit for info product business?\n",
            " Relevant DocIDs: [451207]\n",
            " Top-10 Predicted: [264192, 123170, 166563, 278510, 10882, 86041, 218326, 535673, 294061, 203633]\n",
            " Missed Relevant Docs: [451207]\n",
            "\n",
            " Query ID: 458\n",
            " Query Text: How would IRS treat reimbursement in a later year of moving expenses?\n",
            " Relevant DocIDs: [218858, 263485]\n",
            " Top-10 Predicted: [263485, 62869, 160340, 131451, 139998, 357094, 297241, 101382, 18850, 300254]\n",
            " Missed Relevant Docs: [218858]\n",
            "\n",
            " Query ID: 473\n",
            " Query Text: Financially Shielded Entity Separating Individuals Behind It From Risks\n",
            " Relevant DocIDs: [466037]\n",
            " Top-10 Predicted: [103439, 27425, 389516, 18950, 112987, 291749, 163923, 361442, 540334, 531625]\n",
            " Missed Relevant Docs: [466037]\n",
            "\n",
            " Query ID: 490\n",
            " Query Text: Professional tax for employees - startup in India\n",
            " Relevant DocIDs: [281500]\n",
            " Top-10 Predicted: [595605, 218460, 324921, 360629, 546277, 146657, 138746, 384541, 102287, 144190]\n",
            " Missed Relevant Docs: [281500]\n"
          ]
        }
      ]
    },
    {
      "cell_type": "code",
      "source": [
        "import pandas as pd\n",
        "\n",
        "# Convert to DataFrame\n",
        "df_errors = pd.DataFrame(false_negatives)\n",
        "\n",
        "# Save to Drive with the desired filename\n",
        "output_path = \"/content/drive/MyDrive/FIQA/error_analysis_finbert.csv\"\n",
        "df_errors.to_csv(output_path, index=False)\n",
        "\n",
        "print(f\"Saved error analysis to: {output_path}\")\n"
      ],
      "metadata": {
        "colab": {
          "base_uri": "https://localhost:8080/"
        },
        "id": "zKsByZG7f7m5",
        "outputId": "f1e2db1c-afb0-4c2f-861b-8a03af3a1c1d"
      },
      "execution_count": null,
      "outputs": [
        {
          "output_type": "stream",
          "name": "stdout",
          "text": [
            "Saved error analysis to: /content/drive/MyDrive/FIQA/error_analysis_finbert.csv\n"
          ]
        }
      ]
    }
  ]
}